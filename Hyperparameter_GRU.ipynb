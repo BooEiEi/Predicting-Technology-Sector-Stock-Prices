{
  "nbformat": 4,
  "nbformat_minor": 0,
  "metadata": {
    "colab": {
      "provenance": [],
      "toc_visible": true,
      "machine_shape": "hm",
      "gpuType": "L4",
      "authorship_tag": "ABX9TyPjRIec5APxSho+1U2MyYuj",
      "include_colab_link": true
    },
    "kernelspec": {
      "name": "python3",
      "display_name": "Python 3"
    },
    "language_info": {
      "name": "python"
    },
    "accelerator": "GPU"
  },
  "cells": [
    {
      "cell_type": "markdown",
      "metadata": {
        "id": "view-in-github",
        "colab_type": "text"
      },
      "source": [
        "<a href=\"https://colab.research.google.com/github/BooEiEi/Predicting-Technology-Sector-Stock-Prices/blob/main/Hyperparameter_GRU.ipynb\" target=\"_parent\"><img src=\"https://colab.research.google.com/assets/colab-badge.svg\" alt=\"Open In Colab\"/></a>"
      ]
    },
    {
      "cell_type": "code",
      "execution_count": 9,
      "metadata": {
        "colab": {
          "base_uri": "https://localhost:8080/"
        },
        "id": "F8MaZhlDrtcR",
        "outputId": "a061aa56-b1fa-430c-dd87-f8766b93cf4c"
      },
      "outputs": [
        {
          "output_type": "stream",
          "name": "stdout",
          "text": [
            "Drive already mounted at /content/drive; to attempt to forcibly remount, call drive.mount(\"/content/drive\", force_remount=True).\n"
          ]
        }
      ],
      "source": [
        "import os# os ใช้จัดการกับไฟล์ ว่าอยู่ที่ไหน\n",
        "import numpy as np\n",
        "import pandas as pd\n",
        "import seaborn as sns\n",
        "import matplotlib.pyplot as plt\n",
        "from google.colab import drive #เชื่อม Google drive\n",
        "drive.mount('/content/drive')\n",
        "path_DF = '/content/drive/My Drive/master project/data/DF4'"
      ]
    },
    {
      "cell_type": "code",
      "execution_count": 2,
      "metadata": {
        "colab": {
          "base_uri": "https://localhost:8080/"
        },
        "id": "E9jOL5oCa0GV",
        "outputId": "d4144597-f396-4c3c-85bf-b1537af615cd"
      },
      "outputs": [
        {
          "output_type": "stream",
          "name": "stdout",
          "text": [
            "scikit-learn version: 1.5.2\n",
            "tensorflow version: 2.18.0\n"
          ]
        }
      ],
      "source": [
        "import sklearn\n",
        "#import scikeras\n",
        "import tensorflow\n",
        "\n",
        "print(\"scikit-learn version:\", sklearn.__version__)\n",
        "#print(\"scikeras version:\", scikeras.__version__)\n",
        "print(\"tensorflow version:\", tensorflow.__version__)\n"
      ]
    },
    {
      "cell_type": "code",
      "execution_count": 3,
      "metadata": {
        "colab": {
          "base_uri": "https://localhost:8080/"
        },
        "id": "HknQOqMRub22",
        "outputId": "f087469d-adfd-48ed-802f-5c7cbcf7c9c0"
      },
      "outputs": [
        {
          "output_type": "stream",
          "name": "stdout",
          "text": [
            "Found existing installation: scikit-learn 1.6.1\n",
            "Uninstalling scikit-learn-1.6.1:\n",
            "  Successfully uninstalled scikit-learn-1.6.1\n"
          ]
        }
      ],
      "source": [
        "!pip uninstall scikit-learn -y"
      ]
    },
    {
      "cell_type": "code",
      "execution_count": 4,
      "metadata": {
        "colab": {
          "base_uri": "https://localhost:8080/"
        },
        "id": "h-XK7G7OsZXI",
        "outputId": "acc475df-614e-4f68-972e-7d812c7c4c62"
      },
      "outputs": [
        {
          "output_type": "stream",
          "name": "stdout",
          "text": [
            "Collecting scikit-learn==1.5.2\n",
            "  Downloading scikit_learn-1.5.2-cp311-cp311-manylinux_2_17_x86_64.manylinux2014_x86_64.whl.metadata (13 kB)\n",
            "Requirement already satisfied: numpy>=1.19.5 in /usr/local/lib/python3.11/dist-packages (from scikit-learn==1.5.2) (2.0.2)\n",
            "Requirement already satisfied: scipy>=1.6.0 in /usr/local/lib/python3.11/dist-packages (from scikit-learn==1.5.2) (1.15.3)\n",
            "Requirement already satisfied: joblib>=1.2.0 in /usr/local/lib/python3.11/dist-packages (from scikit-learn==1.5.2) (1.5.0)\n",
            "Requirement already satisfied: threadpoolctl>=3.1.0 in /usr/local/lib/python3.11/dist-packages (from scikit-learn==1.5.2) (3.6.0)\n",
            "Downloading scikit_learn-1.5.2-cp311-cp311-manylinux_2_17_x86_64.manylinux2014_x86_64.whl (13.3 MB)\n",
            "\u001b[2K   \u001b[90m━━━━━━━━━━━━━━━━━━━━━━━━━━━━━━━━━━━━━━━━\u001b[0m \u001b[32m13.3/13.3 MB\u001b[0m \u001b[31m118.5 MB/s\u001b[0m eta \u001b[36m0:00:00\u001b[0m\n",
            "\u001b[?25hInstalling collected packages: scikit-learn\n",
            "Successfully installed scikit-learn-1.5.2\n"
          ]
        }
      ],
      "source": [
        "pip install scikit-learn==1.5.2"
      ]
    },
    {
      "cell_type": "code",
      "execution_count": null,
      "metadata": {
        "id": "xWhaPENiwwPB"
      },
      "outputs": [],
      "source": [
        "import os\n",
        "os._exit(00)"
      ]
    },
    {
      "cell_type": "code",
      "execution_count": 3,
      "metadata": {
        "colab": {
          "base_uri": "https://localhost:8080/"
        },
        "id": "j5-m4h6Qw9he",
        "outputId": "1e4e1098-d6d4-4123-a311-4e2c5efa4494"
      },
      "outputs": [
        {
          "output_type": "stream",
          "name": "stdout",
          "text": [
            "Collecting scikeras\n",
            "  Downloading scikeras-0.13.0-py3-none-any.whl.metadata (3.1 kB)\n",
            "Requirement already satisfied: keras>=3.2.0 in /usr/local/lib/python3.11/dist-packages (from scikeras) (3.8.0)\n",
            "Requirement already satisfied: scikit-learn>=1.4.2 in /usr/local/lib/python3.11/dist-packages (from scikeras) (1.5.2)\n",
            "Requirement already satisfied: absl-py in /usr/local/lib/python3.11/dist-packages (from keras>=3.2.0->scikeras) (1.4.0)\n",
            "Requirement already satisfied: numpy in /usr/local/lib/python3.11/dist-packages (from keras>=3.2.0->scikeras) (2.0.2)\n",
            "Requirement already satisfied: rich in /usr/local/lib/python3.11/dist-packages (from keras>=3.2.0->scikeras) (13.9.4)\n",
            "Requirement already satisfied: namex in /usr/local/lib/python3.11/dist-packages (from keras>=3.2.0->scikeras) (0.0.9)\n",
            "Requirement already satisfied: h5py in /usr/local/lib/python3.11/dist-packages (from keras>=3.2.0->scikeras) (3.13.0)\n",
            "Requirement already satisfied: optree in /usr/local/lib/python3.11/dist-packages (from keras>=3.2.0->scikeras) (0.15.0)\n",
            "Requirement already satisfied: ml-dtypes in /usr/local/lib/python3.11/dist-packages (from keras>=3.2.0->scikeras) (0.4.1)\n",
            "Requirement already satisfied: packaging in /usr/local/lib/python3.11/dist-packages (from keras>=3.2.0->scikeras) (24.2)\n",
            "Requirement already satisfied: scipy>=1.6.0 in /usr/local/lib/python3.11/dist-packages (from scikit-learn>=1.4.2->scikeras) (1.15.3)\n",
            "Requirement already satisfied: joblib>=1.2.0 in /usr/local/lib/python3.11/dist-packages (from scikit-learn>=1.4.2->scikeras) (1.5.0)\n",
            "Requirement already satisfied: threadpoolctl>=3.1.0 in /usr/local/lib/python3.11/dist-packages (from scikit-learn>=1.4.2->scikeras) (3.6.0)\n",
            "Requirement already satisfied: typing-extensions>=4.5.0 in /usr/local/lib/python3.11/dist-packages (from optree->keras>=3.2.0->scikeras) (4.13.2)\n",
            "Requirement already satisfied: markdown-it-py>=2.2.0 in /usr/local/lib/python3.11/dist-packages (from rich->keras>=3.2.0->scikeras) (3.0.0)\n",
            "Requirement already satisfied: pygments<3.0.0,>=2.13.0 in /usr/local/lib/python3.11/dist-packages (from rich->keras>=3.2.0->scikeras) (2.19.1)\n",
            "Requirement already satisfied: mdurl~=0.1 in /usr/local/lib/python3.11/dist-packages (from markdown-it-py>=2.2.0->rich->keras>=3.2.0->scikeras) (0.1.2)\n",
            "Downloading scikeras-0.13.0-py3-none-any.whl (26 kB)\n",
            "Installing collected packages: scikeras\n",
            "Successfully installed scikeras-0.13.0\n"
          ]
        }
      ],
      "source": [
        "!pip install scikeras"
      ]
    },
    {
      "cell_type": "code",
      "execution_count": 4,
      "metadata": {
        "id": "Hnf04qw0EY-V"
      },
      "outputs": [],
      "source": [
        "import tensorflow as tf\n",
        "from sklearn.model_selection import GridSearchCV, TimeSeriesSplit\n",
        "from scikeras.wrappers import KerasRegressor\n",
        "from tensorflow.keras.layers import *\n",
        "from tensorflow.keras import Model\n",
        "from tensorflow.keras.callbacks import EarlyStopping\n",
        "from tensorflow.keras.models import Sequential\n",
        "from keras.layers import Dense, GRU\n",
        "from tensorflow.keras.layers import Dense, Flatten, LSTM, Bidirectional, Input, Dropout, InputLayer, BatchNormalization\n",
        "from sklearn.metrics import mean_squared_error, mean_absolute_error, root_mean_squared_error, mean_absolute_percentage_error"
      ]
    },
    {
      "cell_type": "code",
      "execution_count": 10,
      "metadata": {
        "id": "gG9YiElc_7kz"
      },
      "outputs": [],
      "source": [
        "df_META = pd.read_csv(os.path.join(path_DF, 'df_META.csv'))\n",
        "df_AAPL= pd.read_csv(os.path.join(path_DF, 'df_AAPL.csv'))\n",
        "df_MSFT= pd.read_csv(os.path.join(path_DF, 'df_MSFT.csv'))\n",
        "df_NVDA= pd.read_csv(os.path.join(path_DF, 'df_NVDA.csv'))\n",
        "df_GOOG= pd.read_csv(os.path.join(path_DF, 'df_GOOG.csv'))"
      ]
    },
    {
      "cell_type": "code",
      "execution_count": 11,
      "metadata": {
        "id": "uSTDB5B9ugYP"
      },
      "outputs": [],
      "source": [
        "df_META=df_META.drop(['Unnamed: 0'], axis=1)\n",
        "df_META['date'] = pd.to_datetime(df_META['date'])\n",
        "df_META = df_META.sort_values('date').reset_index(drop=True)"
      ]
    },
    {
      "cell_type": "code",
      "execution_count": 12,
      "metadata": {
        "id": "djQalIUbey2Z"
      },
      "outputs": [],
      "source": [
        "df_AAPL=df_AAPL.drop(['Unnamed: 0'], axis=1)\n",
        "df_AAPL['date'] = pd.to_datetime(df_AAPL['date'])\n",
        "df_AAPL = df_AAPL.sort_values('date').reset_index(drop=True)"
      ]
    },
    {
      "cell_type": "code",
      "execution_count": 13,
      "metadata": {
        "id": "phlW5GTCey2Z"
      },
      "outputs": [],
      "source": [
        "df_MSFT=df_MSFT.drop(['Unnamed: 0'], axis=1)\n",
        "df_MSFT['date'] = pd.to_datetime(df_MSFT['date'])\n",
        "df_MSFT = df_MSFT.sort_values('date').reset_index(drop=True)"
      ]
    },
    {
      "cell_type": "code",
      "execution_count": 14,
      "metadata": {
        "id": "6W6ztoJuey2Z"
      },
      "outputs": [],
      "source": [
        "df_NVDA=df_NVDA.drop(['Unnamed: 0'], axis=1)\n",
        "df_NVDA['date'] = pd.to_datetime(df_NVDA['date'])\n",
        "df_NVDA = df_NVDA.sort_values('date').reset_index(drop=True)"
      ]
    },
    {
      "cell_type": "code",
      "execution_count": 15,
      "metadata": {
        "id": "LQ9DvJ_Dey2Z"
      },
      "outputs": [],
      "source": [
        "df_GOOG=df_GOOG.drop(['Unnamed: 0'], axis=1)\n",
        "df_GOOG['date'] = pd.to_datetime(df_GOOG['date'])\n",
        "df_GOOG = df_GOOG.sort_values('date').reset_index(drop=True)"
      ]
    },
    {
      "cell_type": "code",
      "execution_count": 16,
      "metadata": {
        "id": "ag8q6iyhqdaZ"
      },
      "outputs": [],
      "source": [
        "train_size = int(len(df_META) * 0.75)\n",
        "test_size = len(df_META) - train_size"
      ]
    },
    {
      "cell_type": "markdown",
      "metadata": {
        "id": "BzFoELkSpPNh"
      },
      "source": [
        "# META"
      ]
    },
    {
      "cell_type": "markdown",
      "metadata": {
        "id": "TKO1AFez3JBl"
      },
      "source": [
        "## Train Test"
      ]
    },
    {
      "cell_type": "code",
      "execution_count": 17,
      "metadata": {
        "id": "iMokZmc2qCHc"
      },
      "outputs": [],
      "source": [
        "train_META = df_META.iloc[:train_size]  # ข้อมูล train\n",
        "test_META = df_META.iloc[train_size:]  # ข้อมูล test"
      ]
    },
    {
      "cell_type": "markdown",
      "metadata": {
        "id": "88dfBz183N0n"
      },
      "source": [
        "### Train Varidation"
      ]
    },
    {
      "cell_type": "code",
      "execution_count": 18,
      "metadata": {
        "id": "z2-SLTebqAfX"
      },
      "outputs": [],
      "source": [
        "X_META = train_META[[\"S&P500\",\"CPI\",\"Interest\",\"US_inflation_rate\", \"NASDAQ\"]]\n",
        "y_META = train_META[\"Stockprice_META\"]"
      ]
    },
    {
      "cell_type": "markdown",
      "metadata": {
        "id": "SVb6YQjLaCaa"
      },
      "source": [
        "#Normalized"
      ]
    },
    {
      "cell_type": "code",
      "source": [
        "y_META"
      ],
      "metadata": {
        "colab": {
          "base_uri": "https://localhost:8080/",
          "height": 458
        },
        "id": "9bnpAhnObNkk",
        "outputId": "4c2d2cd9-3536-49f7-cfac-26e01dacf621"
      },
      "execution_count": 19,
      "outputs": [
        {
          "output_type": "execute_result",
          "data": {
            "text/plain": [
              "0      203.49\n",
              "1      208.11\n",
              "2      202.97\n",
              "3      200.06\n",
              "4      187.47\n",
              "        ...  \n",
              "559    464.63\n",
              "560    467.78\n",
              "561    465.78\n",
              "562    478.22\n",
              "563    479.92\n",
              "Name: Stockprice_META, Length: 564, dtype: float64"
            ],
            "text/html": [
              "<div>\n",
              "<style scoped>\n",
              "    .dataframe tbody tr th:only-of-type {\n",
              "        vertical-align: middle;\n",
              "    }\n",
              "\n",
              "    .dataframe tbody tr th {\n",
              "        vertical-align: top;\n",
              "    }\n",
              "\n",
              "    .dataframe thead th {\n",
              "        text-align: right;\n",
              "    }\n",
              "</style>\n",
              "<table border=\"1\" class=\"dataframe\">\n",
              "  <thead>\n",
              "    <tr style=\"text-align: right;\">\n",
              "      <th></th>\n",
              "      <th>Stockprice_META</th>\n",
              "    </tr>\n",
              "  </thead>\n",
              "  <tbody>\n",
              "    <tr>\n",
              "      <th>0</th>\n",
              "      <td>203.49</td>\n",
              "    </tr>\n",
              "    <tr>\n",
              "      <th>1</th>\n",
              "      <td>208.11</td>\n",
              "    </tr>\n",
              "    <tr>\n",
              "      <th>2</th>\n",
              "      <td>202.97</td>\n",
              "    </tr>\n",
              "    <tr>\n",
              "      <th>3</th>\n",
              "      <td>200.06</td>\n",
              "    </tr>\n",
              "    <tr>\n",
              "      <th>4</th>\n",
              "      <td>187.47</td>\n",
              "    </tr>\n",
              "    <tr>\n",
              "      <th>...</th>\n",
              "      <td>...</td>\n",
              "    </tr>\n",
              "    <tr>\n",
              "      <th>559</th>\n",
              "      <td>464.63</td>\n",
              "    </tr>\n",
              "    <tr>\n",
              "      <th>560</th>\n",
              "      <td>467.78</td>\n",
              "    </tr>\n",
              "    <tr>\n",
              "      <th>561</th>\n",
              "      <td>465.78</td>\n",
              "    </tr>\n",
              "    <tr>\n",
              "      <th>562</th>\n",
              "      <td>478.22</td>\n",
              "    </tr>\n",
              "    <tr>\n",
              "      <th>563</th>\n",
              "      <td>479.92</td>\n",
              "    </tr>\n",
              "  </tbody>\n",
              "</table>\n",
              "<p>564 rows × 1 columns</p>\n",
              "</div><br><label><b>dtype:</b> float64</label>"
            ]
          },
          "metadata": {},
          "execution_count": 19
        }
      ]
    },
    {
      "cell_type": "code",
      "source": [
        "train_META"
      ],
      "metadata": {
        "colab": {
          "base_uri": "https://localhost:8080/",
          "height": 617
        },
        "id": "MFl-QdybXuer",
        "outputId": "b394c790-9605-4b72-c74c-8db91f162cb4"
      },
      "execution_count": 20,
      "outputs": [
        {
          "output_type": "execute_result",
          "data": {
            "text/plain": [
              "          date  Stockprice_META  sentiment_META  Interest  UNEMPLOYMENT  \\\n",
              "0   2022-03-01           203.49        0.000000      0.08           3.7   \n",
              "1   2022-03-02           208.11        0.000000      0.08           3.7   \n",
              "2   2022-03-03           202.97        0.000000      0.08           3.7   \n",
              "3   2022-03-04           200.06        0.000000      0.08           3.7   \n",
              "4   2022-03-07           187.47        0.000000      0.08           3.7   \n",
              "..         ...              ...             ...       ...           ...   \n",
              "559 2024-05-21           464.63        0.129250      5.33           4.0   \n",
              "560 2024-05-22           467.78        0.622400      5.33           4.0   \n",
              "561 2024-05-23           465.78        0.399033      5.33           4.0   \n",
              "562 2024-05-24           478.22        0.437117      5.33           4.0   \n",
              "563 2024-05-28           479.92       -0.238700      5.33           4.0   \n",
              "\n",
              "         CPI  US_Treasury_Yield  RETAIL_SALES  US_inflation_rate  Real_GDP  \\\n",
              "0    287.504               1.72      595064.0              0.075  5337.277   \n",
              "1    287.504               1.86      595064.0              0.075  5337.277   \n",
              "2    287.504               1.86      595064.0              0.075  5337.277   \n",
              "3    287.504               1.74      595064.0              0.075  5337.277   \n",
              "4    287.504               1.78      595064.0              0.075  5337.277   \n",
              "..       ...                ...           ...                ...       ...   \n",
              "559  314.069               4.41      643843.0              0.034  5817.169   \n",
              "560  314.069               4.43      643843.0              0.034  5817.169   \n",
              "561  314.069               4.47      643843.0              0.034  5817.169   \n",
              "562  314.069               4.46      643843.0              0.034  5817.169   \n",
              "563  314.069               4.54      643843.0              0.034  5817.169   \n",
              "\n",
              "     US_Dollar_Index   S&P500    NASDAQ     WTI      BTC    Gold  \n",
              "0              97.41  4306.26  13532.46  107.77  44420.3  1943.8  \n",
              "1              97.39  4386.54  13752.02  112.22  43912.8  1922.3  \n",
              "2              97.79  4363.49  13537.94  110.52  42463.0  1935.9  \n",
              "3              98.65  4328.87  13313.44  116.37  39142.7  1966.6  \n",
              "4              99.29  4201.09  12830.96  122.09  38024.8  1995.9  \n",
              "..               ...      ...       ...     ...      ...     ...  \n",
              "559           104.66  5321.41  16832.62   78.69  70139.9  2425.9  \n",
              "560           104.93  5307.01  16801.54   77.53  69155.4  2392.9  \n",
              "561           105.11  5267.84  16736.03   77.22  67975.7  2337.2  \n",
              "562           104.72  5304.72  16920.79   78.18  68547.6  2334.5  \n",
              "563           104.61  5306.04  17019.88   80.55  68366.0  2356.5  \n",
              "\n",
              "[564 rows x 16 columns]"
            ],
            "text/html": [
              "\n",
              "  <div id=\"df-0f37b8ea-a58d-448a-b5c2-7d0ac6b6fbb8\" class=\"colab-df-container\">\n",
              "    <div>\n",
              "<style scoped>\n",
              "    .dataframe tbody tr th:only-of-type {\n",
              "        vertical-align: middle;\n",
              "    }\n",
              "\n",
              "    .dataframe tbody tr th {\n",
              "        vertical-align: top;\n",
              "    }\n",
              "\n",
              "    .dataframe thead th {\n",
              "        text-align: right;\n",
              "    }\n",
              "</style>\n",
              "<table border=\"1\" class=\"dataframe\">\n",
              "  <thead>\n",
              "    <tr style=\"text-align: right;\">\n",
              "      <th></th>\n",
              "      <th>date</th>\n",
              "      <th>Stockprice_META</th>\n",
              "      <th>sentiment_META</th>\n",
              "      <th>Interest</th>\n",
              "      <th>UNEMPLOYMENT</th>\n",
              "      <th>CPI</th>\n",
              "      <th>US_Treasury_Yield</th>\n",
              "      <th>RETAIL_SALES</th>\n",
              "      <th>US_inflation_rate</th>\n",
              "      <th>Real_GDP</th>\n",
              "      <th>US_Dollar_Index</th>\n",
              "      <th>S&amp;P500</th>\n",
              "      <th>NASDAQ</th>\n",
              "      <th>WTI</th>\n",
              "      <th>BTC</th>\n",
              "      <th>Gold</th>\n",
              "    </tr>\n",
              "  </thead>\n",
              "  <tbody>\n",
              "    <tr>\n",
              "      <th>0</th>\n",
              "      <td>2022-03-01</td>\n",
              "      <td>203.49</td>\n",
              "      <td>0.000000</td>\n",
              "      <td>0.08</td>\n",
              "      <td>3.7</td>\n",
              "      <td>287.504</td>\n",
              "      <td>1.72</td>\n",
              "      <td>595064.0</td>\n",
              "      <td>0.075</td>\n",
              "      <td>5337.277</td>\n",
              "      <td>97.41</td>\n",
              "      <td>4306.26</td>\n",
              "      <td>13532.46</td>\n",
              "      <td>107.77</td>\n",
              "      <td>44420.3</td>\n",
              "      <td>1943.8</td>\n",
              "    </tr>\n",
              "    <tr>\n",
              "      <th>1</th>\n",
              "      <td>2022-03-02</td>\n",
              "      <td>208.11</td>\n",
              "      <td>0.000000</td>\n",
              "      <td>0.08</td>\n",
              "      <td>3.7</td>\n",
              "      <td>287.504</td>\n",
              "      <td>1.86</td>\n",
              "      <td>595064.0</td>\n",
              "      <td>0.075</td>\n",
              "      <td>5337.277</td>\n",
              "      <td>97.39</td>\n",
              "      <td>4386.54</td>\n",
              "      <td>13752.02</td>\n",
              "      <td>112.22</td>\n",
              "      <td>43912.8</td>\n",
              "      <td>1922.3</td>\n",
              "    </tr>\n",
              "    <tr>\n",
              "      <th>2</th>\n",
              "      <td>2022-03-03</td>\n",
              "      <td>202.97</td>\n",
              "      <td>0.000000</td>\n",
              "      <td>0.08</td>\n",
              "      <td>3.7</td>\n",
              "      <td>287.504</td>\n",
              "      <td>1.86</td>\n",
              "      <td>595064.0</td>\n",
              "      <td>0.075</td>\n",
              "      <td>5337.277</td>\n",
              "      <td>97.79</td>\n",
              "      <td>4363.49</td>\n",
              "      <td>13537.94</td>\n",
              "      <td>110.52</td>\n",
              "      <td>42463.0</td>\n",
              "      <td>1935.9</td>\n",
              "    </tr>\n",
              "    <tr>\n",
              "      <th>3</th>\n",
              "      <td>2022-03-04</td>\n",
              "      <td>200.06</td>\n",
              "      <td>0.000000</td>\n",
              "      <td>0.08</td>\n",
              "      <td>3.7</td>\n",
              "      <td>287.504</td>\n",
              "      <td>1.74</td>\n",
              "      <td>595064.0</td>\n",
              "      <td>0.075</td>\n",
              "      <td>5337.277</td>\n",
              "      <td>98.65</td>\n",
              "      <td>4328.87</td>\n",
              "      <td>13313.44</td>\n",
              "      <td>116.37</td>\n",
              "      <td>39142.7</td>\n",
              "      <td>1966.6</td>\n",
              "    </tr>\n",
              "    <tr>\n",
              "      <th>4</th>\n",
              "      <td>2022-03-07</td>\n",
              "      <td>187.47</td>\n",
              "      <td>0.000000</td>\n",
              "      <td>0.08</td>\n",
              "      <td>3.7</td>\n",
              "      <td>287.504</td>\n",
              "      <td>1.78</td>\n",
              "      <td>595064.0</td>\n",
              "      <td>0.075</td>\n",
              "      <td>5337.277</td>\n",
              "      <td>99.29</td>\n",
              "      <td>4201.09</td>\n",
              "      <td>12830.96</td>\n",
              "      <td>122.09</td>\n",
              "      <td>38024.8</td>\n",
              "      <td>1995.9</td>\n",
              "    </tr>\n",
              "    <tr>\n",
              "      <th>...</th>\n",
              "      <td>...</td>\n",
              "      <td>...</td>\n",
              "      <td>...</td>\n",
              "      <td>...</td>\n",
              "      <td>...</td>\n",
              "      <td>...</td>\n",
              "      <td>...</td>\n",
              "      <td>...</td>\n",
              "      <td>...</td>\n",
              "      <td>...</td>\n",
              "      <td>...</td>\n",
              "      <td>...</td>\n",
              "      <td>...</td>\n",
              "      <td>...</td>\n",
              "      <td>...</td>\n",
              "      <td>...</td>\n",
              "    </tr>\n",
              "    <tr>\n",
              "      <th>559</th>\n",
              "      <td>2024-05-21</td>\n",
              "      <td>464.63</td>\n",
              "      <td>0.129250</td>\n",
              "      <td>5.33</td>\n",
              "      <td>4.0</td>\n",
              "      <td>314.069</td>\n",
              "      <td>4.41</td>\n",
              "      <td>643843.0</td>\n",
              "      <td>0.034</td>\n",
              "      <td>5817.169</td>\n",
              "      <td>104.66</td>\n",
              "      <td>5321.41</td>\n",
              "      <td>16832.62</td>\n",
              "      <td>78.69</td>\n",
              "      <td>70139.9</td>\n",
              "      <td>2425.9</td>\n",
              "    </tr>\n",
              "    <tr>\n",
              "      <th>560</th>\n",
              "      <td>2024-05-22</td>\n",
              "      <td>467.78</td>\n",
              "      <td>0.622400</td>\n",
              "      <td>5.33</td>\n",
              "      <td>4.0</td>\n",
              "      <td>314.069</td>\n",
              "      <td>4.43</td>\n",
              "      <td>643843.0</td>\n",
              "      <td>0.034</td>\n",
              "      <td>5817.169</td>\n",
              "      <td>104.93</td>\n",
              "      <td>5307.01</td>\n",
              "      <td>16801.54</td>\n",
              "      <td>77.53</td>\n",
              "      <td>69155.4</td>\n",
              "      <td>2392.9</td>\n",
              "    </tr>\n",
              "    <tr>\n",
              "      <th>561</th>\n",
              "      <td>2024-05-23</td>\n",
              "      <td>465.78</td>\n",
              "      <td>0.399033</td>\n",
              "      <td>5.33</td>\n",
              "      <td>4.0</td>\n",
              "      <td>314.069</td>\n",
              "      <td>4.47</td>\n",
              "      <td>643843.0</td>\n",
              "      <td>0.034</td>\n",
              "      <td>5817.169</td>\n",
              "      <td>105.11</td>\n",
              "      <td>5267.84</td>\n",
              "      <td>16736.03</td>\n",
              "      <td>77.22</td>\n",
              "      <td>67975.7</td>\n",
              "      <td>2337.2</td>\n",
              "    </tr>\n",
              "    <tr>\n",
              "      <th>562</th>\n",
              "      <td>2024-05-24</td>\n",
              "      <td>478.22</td>\n",
              "      <td>0.437117</td>\n",
              "      <td>5.33</td>\n",
              "      <td>4.0</td>\n",
              "      <td>314.069</td>\n",
              "      <td>4.46</td>\n",
              "      <td>643843.0</td>\n",
              "      <td>0.034</td>\n",
              "      <td>5817.169</td>\n",
              "      <td>104.72</td>\n",
              "      <td>5304.72</td>\n",
              "      <td>16920.79</td>\n",
              "      <td>78.18</td>\n",
              "      <td>68547.6</td>\n",
              "      <td>2334.5</td>\n",
              "    </tr>\n",
              "    <tr>\n",
              "      <th>563</th>\n",
              "      <td>2024-05-28</td>\n",
              "      <td>479.92</td>\n",
              "      <td>-0.238700</td>\n",
              "      <td>5.33</td>\n",
              "      <td>4.0</td>\n",
              "      <td>314.069</td>\n",
              "      <td>4.54</td>\n",
              "      <td>643843.0</td>\n",
              "      <td>0.034</td>\n",
              "      <td>5817.169</td>\n",
              "      <td>104.61</td>\n",
              "      <td>5306.04</td>\n",
              "      <td>17019.88</td>\n",
              "      <td>80.55</td>\n",
              "      <td>68366.0</td>\n",
              "      <td>2356.5</td>\n",
              "    </tr>\n",
              "  </tbody>\n",
              "</table>\n",
              "<p>564 rows × 16 columns</p>\n",
              "</div>\n",
              "    <div class=\"colab-df-buttons\">\n",
              "\n",
              "  <div class=\"colab-df-container\">\n",
              "    <button class=\"colab-df-convert\" onclick=\"convertToInteractive('df-0f37b8ea-a58d-448a-b5c2-7d0ac6b6fbb8')\"\n",
              "            title=\"Convert this dataframe to an interactive table.\"\n",
              "            style=\"display:none;\">\n",
              "\n",
              "  <svg xmlns=\"http://www.w3.org/2000/svg\" height=\"24px\" viewBox=\"0 -960 960 960\">\n",
              "    <path d=\"M120-120v-720h720v720H120Zm60-500h600v-160H180v160Zm220 220h160v-160H400v160Zm0 220h160v-160H400v160ZM180-400h160v-160H180v160Zm440 0h160v-160H620v160ZM180-180h160v-160H180v160Zm440 0h160v-160H620v160Z\"/>\n",
              "  </svg>\n",
              "    </button>\n",
              "\n",
              "  <style>\n",
              "    .colab-df-container {\n",
              "      display:flex;\n",
              "      gap: 12px;\n",
              "    }\n",
              "\n",
              "    .colab-df-convert {\n",
              "      background-color: #E8F0FE;\n",
              "      border: none;\n",
              "      border-radius: 50%;\n",
              "      cursor: pointer;\n",
              "      display: none;\n",
              "      fill: #1967D2;\n",
              "      height: 32px;\n",
              "      padding: 0 0 0 0;\n",
              "      width: 32px;\n",
              "    }\n",
              "\n",
              "    .colab-df-convert:hover {\n",
              "      background-color: #E2EBFA;\n",
              "      box-shadow: 0px 1px 2px rgba(60, 64, 67, 0.3), 0px 1px 3px 1px rgba(60, 64, 67, 0.15);\n",
              "      fill: #174EA6;\n",
              "    }\n",
              "\n",
              "    .colab-df-buttons div {\n",
              "      margin-bottom: 4px;\n",
              "    }\n",
              "\n",
              "    [theme=dark] .colab-df-convert {\n",
              "      background-color: #3B4455;\n",
              "      fill: #D2E3FC;\n",
              "    }\n",
              "\n",
              "    [theme=dark] .colab-df-convert:hover {\n",
              "      background-color: #434B5C;\n",
              "      box-shadow: 0px 1px 3px 1px rgba(0, 0, 0, 0.15);\n",
              "      filter: drop-shadow(0px 1px 2px rgba(0, 0, 0, 0.3));\n",
              "      fill: #FFFFFF;\n",
              "    }\n",
              "  </style>\n",
              "\n",
              "    <script>\n",
              "      const buttonEl =\n",
              "        document.querySelector('#df-0f37b8ea-a58d-448a-b5c2-7d0ac6b6fbb8 button.colab-df-convert');\n",
              "      buttonEl.style.display =\n",
              "        google.colab.kernel.accessAllowed ? 'block' : 'none';\n",
              "\n",
              "      async function convertToInteractive(key) {\n",
              "        const element = document.querySelector('#df-0f37b8ea-a58d-448a-b5c2-7d0ac6b6fbb8');\n",
              "        const dataTable =\n",
              "          await google.colab.kernel.invokeFunction('convertToInteractive',\n",
              "                                                    [key], {});\n",
              "        if (!dataTable) return;\n",
              "\n",
              "        const docLinkHtml = 'Like what you see? Visit the ' +\n",
              "          '<a target=\"_blank\" href=https://colab.research.google.com/notebooks/data_table.ipynb>data table notebook</a>'\n",
              "          + ' to learn more about interactive tables.';\n",
              "        element.innerHTML = '';\n",
              "        dataTable['output_type'] = 'display_data';\n",
              "        await google.colab.output.renderOutput(dataTable, element);\n",
              "        const docLink = document.createElement('div');\n",
              "        docLink.innerHTML = docLinkHtml;\n",
              "        element.appendChild(docLink);\n",
              "      }\n",
              "    </script>\n",
              "  </div>\n",
              "\n",
              "\n",
              "    <div id=\"df-bd0b974f-b299-4f92-a8bf-d74ad0713f3a\">\n",
              "      <button class=\"colab-df-quickchart\" onclick=\"quickchart('df-bd0b974f-b299-4f92-a8bf-d74ad0713f3a')\"\n",
              "                title=\"Suggest charts\"\n",
              "                style=\"display:none;\">\n",
              "\n",
              "<svg xmlns=\"http://www.w3.org/2000/svg\" height=\"24px\"viewBox=\"0 0 24 24\"\n",
              "     width=\"24px\">\n",
              "    <g>\n",
              "        <path d=\"M19 3H5c-1.1 0-2 .9-2 2v14c0 1.1.9 2 2 2h14c1.1 0 2-.9 2-2V5c0-1.1-.9-2-2-2zM9 17H7v-7h2v7zm4 0h-2V7h2v10zm4 0h-2v-4h2v4z\"/>\n",
              "    </g>\n",
              "</svg>\n",
              "      </button>\n",
              "\n",
              "<style>\n",
              "  .colab-df-quickchart {\n",
              "      --bg-color: #E8F0FE;\n",
              "      --fill-color: #1967D2;\n",
              "      --hover-bg-color: #E2EBFA;\n",
              "      --hover-fill-color: #174EA6;\n",
              "      --disabled-fill-color: #AAA;\n",
              "      --disabled-bg-color: #DDD;\n",
              "  }\n",
              "\n",
              "  [theme=dark] .colab-df-quickchart {\n",
              "      --bg-color: #3B4455;\n",
              "      --fill-color: #D2E3FC;\n",
              "      --hover-bg-color: #434B5C;\n",
              "      --hover-fill-color: #FFFFFF;\n",
              "      --disabled-bg-color: #3B4455;\n",
              "      --disabled-fill-color: #666;\n",
              "  }\n",
              "\n",
              "  .colab-df-quickchart {\n",
              "    background-color: var(--bg-color);\n",
              "    border: none;\n",
              "    border-radius: 50%;\n",
              "    cursor: pointer;\n",
              "    display: none;\n",
              "    fill: var(--fill-color);\n",
              "    height: 32px;\n",
              "    padding: 0;\n",
              "    width: 32px;\n",
              "  }\n",
              "\n",
              "  .colab-df-quickchart:hover {\n",
              "    background-color: var(--hover-bg-color);\n",
              "    box-shadow: 0 1px 2px rgba(60, 64, 67, 0.3), 0 1px 3px 1px rgba(60, 64, 67, 0.15);\n",
              "    fill: var(--button-hover-fill-color);\n",
              "  }\n",
              "\n",
              "  .colab-df-quickchart-complete:disabled,\n",
              "  .colab-df-quickchart-complete:disabled:hover {\n",
              "    background-color: var(--disabled-bg-color);\n",
              "    fill: var(--disabled-fill-color);\n",
              "    box-shadow: none;\n",
              "  }\n",
              "\n",
              "  .colab-df-spinner {\n",
              "    border: 2px solid var(--fill-color);\n",
              "    border-color: transparent;\n",
              "    border-bottom-color: var(--fill-color);\n",
              "    animation:\n",
              "      spin 1s steps(1) infinite;\n",
              "  }\n",
              "\n",
              "  @keyframes spin {\n",
              "    0% {\n",
              "      border-color: transparent;\n",
              "      border-bottom-color: var(--fill-color);\n",
              "      border-left-color: var(--fill-color);\n",
              "    }\n",
              "    20% {\n",
              "      border-color: transparent;\n",
              "      border-left-color: var(--fill-color);\n",
              "      border-top-color: var(--fill-color);\n",
              "    }\n",
              "    30% {\n",
              "      border-color: transparent;\n",
              "      border-left-color: var(--fill-color);\n",
              "      border-top-color: var(--fill-color);\n",
              "      border-right-color: var(--fill-color);\n",
              "    }\n",
              "    40% {\n",
              "      border-color: transparent;\n",
              "      border-right-color: var(--fill-color);\n",
              "      border-top-color: var(--fill-color);\n",
              "    }\n",
              "    60% {\n",
              "      border-color: transparent;\n",
              "      border-right-color: var(--fill-color);\n",
              "    }\n",
              "    80% {\n",
              "      border-color: transparent;\n",
              "      border-right-color: var(--fill-color);\n",
              "      border-bottom-color: var(--fill-color);\n",
              "    }\n",
              "    90% {\n",
              "      border-color: transparent;\n",
              "      border-bottom-color: var(--fill-color);\n",
              "    }\n",
              "  }\n",
              "</style>\n",
              "\n",
              "      <script>\n",
              "        async function quickchart(key) {\n",
              "          const quickchartButtonEl =\n",
              "            document.querySelector('#' + key + ' button');\n",
              "          quickchartButtonEl.disabled = true;  // To prevent multiple clicks.\n",
              "          quickchartButtonEl.classList.add('colab-df-spinner');\n",
              "          try {\n",
              "            const charts = await google.colab.kernel.invokeFunction(\n",
              "                'suggestCharts', [key], {});\n",
              "          } catch (error) {\n",
              "            console.error('Error during call to suggestCharts:', error);\n",
              "          }\n",
              "          quickchartButtonEl.classList.remove('colab-df-spinner');\n",
              "          quickchartButtonEl.classList.add('colab-df-quickchart-complete');\n",
              "        }\n",
              "        (() => {\n",
              "          let quickchartButtonEl =\n",
              "            document.querySelector('#df-bd0b974f-b299-4f92-a8bf-d74ad0713f3a button');\n",
              "          quickchartButtonEl.style.display =\n",
              "            google.colab.kernel.accessAllowed ? 'block' : 'none';\n",
              "        })();\n",
              "      </script>\n",
              "    </div>\n",
              "\n",
              "  <div id=\"id_0e099ecf-4e60-42af-ba19-b472726d4510\">\n",
              "    <style>\n",
              "      .colab-df-generate {\n",
              "        background-color: #E8F0FE;\n",
              "        border: none;\n",
              "        border-radius: 50%;\n",
              "        cursor: pointer;\n",
              "        display: none;\n",
              "        fill: #1967D2;\n",
              "        height: 32px;\n",
              "        padding: 0 0 0 0;\n",
              "        width: 32px;\n",
              "      }\n",
              "\n",
              "      .colab-df-generate:hover {\n",
              "        background-color: #E2EBFA;\n",
              "        box-shadow: 0px 1px 2px rgba(60, 64, 67, 0.3), 0px 1px 3px 1px rgba(60, 64, 67, 0.15);\n",
              "        fill: #174EA6;\n",
              "      }\n",
              "\n",
              "      [theme=dark] .colab-df-generate {\n",
              "        background-color: #3B4455;\n",
              "        fill: #D2E3FC;\n",
              "      }\n",
              "\n",
              "      [theme=dark] .colab-df-generate:hover {\n",
              "        background-color: #434B5C;\n",
              "        box-shadow: 0px 1px 3px 1px rgba(0, 0, 0, 0.15);\n",
              "        filter: drop-shadow(0px 1px 2px rgba(0, 0, 0, 0.3));\n",
              "        fill: #FFFFFF;\n",
              "      }\n",
              "    </style>\n",
              "    <button class=\"colab-df-generate\" onclick=\"generateWithVariable('train_META')\"\n",
              "            title=\"Generate code using this dataframe.\"\n",
              "            style=\"display:none;\">\n",
              "\n",
              "  <svg xmlns=\"http://www.w3.org/2000/svg\" height=\"24px\"viewBox=\"0 0 24 24\"\n",
              "       width=\"24px\">\n",
              "    <path d=\"M7,19H8.4L18.45,9,17,7.55,7,17.6ZM5,21V16.75L18.45,3.32a2,2,0,0,1,2.83,0l1.4,1.43a1.91,1.91,0,0,1,.58,1.4,1.91,1.91,0,0,1-.58,1.4L9.25,21ZM18.45,9,17,7.55Zm-12,3A5.31,5.31,0,0,0,4.9,8.1,5.31,5.31,0,0,0,1,6.5,5.31,5.31,0,0,0,4.9,4.9,5.31,5.31,0,0,0,6.5,1,5.31,5.31,0,0,0,8.1,4.9,5.31,5.31,0,0,0,12,6.5,5.46,5.46,0,0,0,6.5,12Z\"/>\n",
              "  </svg>\n",
              "    </button>\n",
              "    <script>\n",
              "      (() => {\n",
              "      const buttonEl =\n",
              "        document.querySelector('#id_0e099ecf-4e60-42af-ba19-b472726d4510 button.colab-df-generate');\n",
              "      buttonEl.style.display =\n",
              "        google.colab.kernel.accessAllowed ? 'block' : 'none';\n",
              "\n",
              "      buttonEl.onclick = () => {\n",
              "        google.colab.notebook.generateWithVariable('train_META');\n",
              "      }\n",
              "      })();\n",
              "    </script>\n",
              "  </div>\n",
              "\n",
              "    </div>\n",
              "  </div>\n"
            ],
            "application/vnd.google.colaboratory.intrinsic+json": {
              "type": "dataframe",
              "variable_name": "train_META",
              "summary": "{\n  \"name\": \"train_META\",\n  \"rows\": 564,\n  \"fields\": [\n    {\n      \"column\": \"date\",\n      \"properties\": {\n        \"dtype\": \"date\",\n        \"min\": \"2022-03-01 00:00:00\",\n        \"max\": \"2024-05-28 00:00:00\",\n        \"num_unique_values\": 564,\n        \"samples\": [\n          \"2024-04-19 00:00:00\",\n          \"2024-03-28 00:00:00\",\n          \"2023-02-03 00:00:00\"\n        ],\n        \"semantic_type\": \"\",\n        \"description\": \"\"\n      }\n    },\n    {\n      \"column\": \"Stockprice_META\",\n      \"properties\": {\n        \"dtype\": \"number\",\n        \"std\": 116.20307345996058,\n        \"min\": 88.91,\n        \"max\": 527.34,\n        \"num_unique_values\": 560,\n        \"samples\": [\n          354.09,\n          308.87,\n          111.87\n        ],\n        \"semantic_type\": \"\",\n        \"description\": \"\"\n      }\n    },\n    {\n      \"column\": \"sentiment_META\",\n      \"properties\": {\n        \"dtype\": \"number\",\n        \"std\": 0.21433815397302472,\n        \"min\": -0.6858,\n        \"max\": 0.7019500000000001,\n        \"num_unique_values\": 490,\n        \"samples\": [\n          0.4165,\n          0.1968444444444444,\n          0.1698833333333333\n        ],\n        \"semantic_type\": \"\",\n        \"description\": \"\"\n      }\n    },\n    {\n      \"column\": \"Interest\",\n      \"properties\": {\n        \"dtype\": \"number\",\n        \"std\": 1.740311126994113,\n        \"min\": 0.08,\n        \"max\": 5.33,\n        \"num_unique_values\": 15,\n        \"samples\": [\n          4.58,\n          4.83,\n          0.08\n        ],\n        \"semantic_type\": \"\",\n        \"description\": \"\"\n      }\n    },\n    {\n      \"column\": \"UNEMPLOYMENT\",\n      \"properties\": {\n        \"dtype\": \"number\",\n        \"std\": 0.1524263242078036,\n        \"min\": 3.4,\n        \"max\": 4.0,\n        \"num_unique_values\": 7,\n        \"samples\": [\n          3.7,\n          3.6,\n          3.9\n        ],\n        \"semantic_type\": \"\",\n        \"description\": \"\"\n      }\n    },\n    {\n      \"column\": \"CPI\",\n      \"properties\": {\n        \"dtype\": \"number\",\n        \"std\": 7.0406121503034225,\n        \"min\": 287.504,\n        \"max\": 314.069,\n        \"num_unique_values\": 27,\n        \"samples\": [\n          297.711,\n          303.363,\n          296.797\n        ],\n        \"semantic_type\": \"\",\n        \"description\": \"\"\n      }\n    },\n    {\n      \"column\": \"US_Treasury_Yield\",\n      \"properties\": {\n        \"dtype\": \"number\",\n        \"std\": 0.6472527954634699,\n        \"min\": 1.72,\n        \"max\": 4.98,\n        \"num_unique_values\": 215,\n        \"samples\": [\n          4.15,\n          4.43,\n          3.38\n        ],\n        \"semantic_type\": \"\",\n        \"description\": \"\"\n      }\n    },\n    {\n      \"column\": \"RETAIL_SALES\",\n      \"properties\": {\n        \"dtype\": \"number\",\n        \"std\": 29991.501541798112,\n        \"min\": 526218.0,\n        \"max\": 668957.0,\n        \"num_unique_values\": 27,\n        \"samples\": [\n          599732.0,\n          584626.0,\n          649106.0\n        ],\n        \"semantic_type\": \"\",\n        \"description\": \"\"\n      }\n    },\n    {\n      \"column\": \"US_inflation_rate\",\n      \"properties\": {\n        \"dtype\": \"number\",\n        \"std\": 0.022267187293664944,\n        \"min\": 0.03,\n        \"max\": 0.091,\n        \"num_unique_values\": 21,\n        \"samples\": [\n          0.075,\n          0.037,\n          0.03\n        ],\n        \"semantic_type\": \"\",\n        \"description\": \"\"\n      }\n    },\n    {\n      \"column\": \"Real_GDP\",\n      \"properties\": {\n        \"dtype\": \"number\",\n        \"std\": 133.46036124176862,\n        \"min\": 5337.277,\n        \"max\": 5831.583,\n        \"num_unique_values\": 10,\n        \"samples\": [\n          5638.455,\n          5484.289,\n          5646.288\n        ],\n        \"semantic_type\": \"\",\n        \"description\": \"\"\n      }\n    },\n    {\n      \"column\": \"US_Dollar_Index\",\n      \"properties\": {\n        \"dtype\": \"number\",\n        \"std\": 3.0078806540065246,\n        \"min\": 97.39,\n        \"max\": 114.11,\n        \"num_unique_values\": 412,\n        \"samples\": [\n          104.17,\n          102.06,\n          102.35\n        ],\n        \"semantic_type\": \"\",\n        \"description\": \"\"\n      }\n    },\n    {\n      \"column\": \"S&P500\",\n      \"properties\": {\n        \"dtype\": \"number\",\n        \"std\": 429.7913017820774,\n        \"min\": 3577.03,\n        \"max\": 5321.41,\n        \"num_unique_values\": 563,\n        \"samples\": [\n          3970.15,\n          5254.35,\n          3970.99\n        ],\n        \"semantic_type\": \"\",\n        \"description\": \"\"\n      }\n    },\n    {\n      \"column\": \"NASDAQ\",\n      \"properties\": {\n        \"dtype\": \"number\",\n        \"std\": 1744.4794677669659,\n        \"min\": 10213.29,\n        \"max\": 17019.88,\n        \"num_unique_values\": 563,\n        \"samples\": [\n          11455.54,\n          16379.46,\n          11823.96\n        ],\n        \"semantic_type\": \"\",\n        \"description\": \"\"\n      }\n    },\n    {\n      \"column\": \"WTI\",\n      \"properties\": {\n        \"dtype\": \"number\",\n        \"std\": 12.758722581769186,\n        \"min\": 66.36,\n        \"max\": 126.47,\n        \"num_unique_values\": 507,\n        \"samples\": [\n          86.69,\n          77.17,\n          81.69\n        ],\n        \"semantic_type\": \"\",\n        \"description\": \"\"\n      }\n    },\n    {\n      \"column\": \"BTC\",\n      \"properties\": {\n        \"dtype\": \"number\",\n        \"std\": 14531.489391221607,\n        \"min\": 15776.2,\n        \"max\": 73066.3,\n        \"num_unique_values\": 562,\n        \"samples\": [\n          49941.3,\n          43446.5,\n          28321.7\n        ],\n        \"semantic_type\": \"\",\n        \"description\": \"\"\n      }\n    },\n    {\n      \"column\": \"Gold\",\n      \"properties\": {\n        \"dtype\": \"number\",\n        \"std\": 166.63132413604802,\n        \"min\": 1623.6,\n        \"max\": 2438.5,\n        \"num_unique_values\": 530,\n        \"samples\": [\n          1645.3,\n          1937.7,\n          1988.2\n        ],\n        \"semantic_type\": \"\",\n        \"description\": \"\"\n      }\n    }\n  ]\n}"
            }
          },
          "metadata": {},
          "execution_count": 20
        }
      ]
    },
    {
      "cell_type": "code",
      "execution_count": 21,
      "metadata": {
        "id": "os9nmxXNaGKo"
      },
      "outputs": [],
      "source": [
        "from sklearn.preprocessing import MinMaxScaler\n",
        "scaler = MinMaxScaler()\n",
        "\n",
        "X_META = scaler.fit_transform(X_META)"
      ]
    },
    {
      "cell_type": "code",
      "source": [
        "X_META"
      ],
      "metadata": {
        "colab": {
          "base_uri": "https://localhost:8080/"
        },
        "id": "lQNedzKXXfxb",
        "outputId": "9aa67acf-b865-498a-cbb4-298bdbe32663"
      },
      "execution_count": 22,
      "outputs": [
        {
          "output_type": "execute_result",
          "data": {
            "text/plain": [
              "array([[0.41804538, 0.        , 0.        , 0.73770492, 0.48764065],\n",
              "       [0.46406746, 0.        , 0.        , 0.73770492, 0.51989763],\n",
              "       [0.4508536 , 0.        , 0.        , 0.73770492, 0.48844576],\n",
              "       ...,\n",
              "       [0.96928995, 1.        , 1.        , 0.06557377, 0.95829777],\n",
              "       [0.99043213, 1.        , 1.        , 0.06557377, 0.98544205],\n",
              "       [0.99118885, 1.        , 1.        , 0.06557377, 1.        ]])"
            ]
          },
          "metadata": {},
          "execution_count": 22
        }
      ]
    },
    {
      "cell_type": "code",
      "execution_count": 23,
      "metadata": {
        "colab": {
          "base_uri": "https://localhost:8080/"
        },
        "id": "BjuMKnVZhopE",
        "outputId": "8847abff-11ea-4403-d12a-935e27753f5c"
      },
      "outputs": [
        {
          "output_type": "execute_result",
          "data": {
            "text/plain": [
              "564"
            ]
          },
          "metadata": {},
          "execution_count": 23
        }
      ],
      "source": [
        "X_META.shape[0]"
      ]
    },
    {
      "cell_type": "code",
      "execution_count": 24,
      "metadata": {
        "id": "QO9y5q6ddHuq"
      },
      "outputs": [],
      "source": [
        "look_back = 10\n",
        "\n",
        "X_META1, y_META1 = [], []\n",
        "for i in range(len(X_META) - look_back):\n",
        "    X_META1.append(X_META[i:i + look_back])\n",
        "    y_META1.append(y_META[i + look_back])\n",
        "\n",
        "X_META1, y_META1 = np.array(X_META1), np.array(y_META1)"
      ]
    },
    {
      "cell_type": "code",
      "execution_count": 25,
      "metadata": {
        "colab": {
          "base_uri": "https://localhost:8080/"
        },
        "collapsed": true,
        "id": "JTFHcIMZdW_w",
        "outputId": "667cf250-3159-4295-cc1e-03f7ce2993cd"
      },
      "outputs": [
        {
          "output_type": "execute_result",
          "data": {
            "text/plain": [
              "(554,)"
            ]
          },
          "metadata": {},
          "execution_count": 25
        }
      ],
      "source": [
        "y_META1.shape"
      ]
    },
    {
      "cell_type": "code",
      "execution_count": 26,
      "metadata": {
        "colab": {
          "base_uri": "https://localhost:8080/"
        },
        "id": "rly7WHfhf872",
        "outputId": "45ee69ba-f84f-4fd9-c41b-c510235f32a9"
      },
      "outputs": [
        {
          "output_type": "execute_result",
          "data": {
            "text/plain": [
              "(554, 10, 5)"
            ]
          },
          "metadata": {},
          "execution_count": 26
        }
      ],
      "source": [
        "X_META1.shape"
      ]
    },
    {
      "cell_type": "code",
      "execution_count": 27,
      "metadata": {
        "id": "WpmcaWbKJ8ac"
      },
      "outputs": [],
      "source": [
        "tscv = TimeSeriesSplit(n_splits=5)"
      ]
    },
    {
      "cell_type": "markdown",
      "metadata": {
        "id": "w_DEUG1fbJP4"
      },
      "source": [
        "#MODEL"
      ]
    },
    {
      "cell_type": "code",
      "execution_count": 33,
      "metadata": {
        "colab": {
          "base_uri": "https://localhost:8080/"
        },
        "outputId": "0cd89244-2c9a-469c-acd2-80d2caa304d1",
        "id": "sxiS_BfXg6Ws"
      },
      "outputs": [
        {
          "output_type": "stream",
          "name": "stderr",
          "text": [
            "/usr/local/lib/python3.11/dist-packages/joblib/externals/loky/process_executor.py:782: UserWarning: A worker stopped while some jobs were given to the executor. This can be caused by a too short worker timeout or by a memory leak.\n",
            "  warnings.warn(\n",
            "/usr/local/lib/python3.11/dist-packages/numpy/ma/core.py:2846: RuntimeWarning: invalid value encountered in cast\n",
            "  _data = np.array(data, dtype=dtype, copy=copy,\n",
            "/usr/local/lib/python3.11/dist-packages/keras/src/layers/rnn/rnn.py:200: UserWarning: Do not pass an `input_shape`/`input_dim` argument to a layer. When using Sequential models, prefer using an `Input(shape)` object as the first layer in the model instead.\n",
            "  super().__init__(**kwargs)\n"
          ]
        },
        {
          "output_type": "stream",
          "name": "stdout",
          "text": [
            "Best Hyperparameters: {'batch_size': 16, 'epochs': 150, 'neurons': 512, 'optimizer': 'RMSprop'}\n",
            "Test Set Mean Squared Error: 156.6028\n",
            "Test Set Root Mean Squared Error: 12.5141\n",
            "Test Set Mean Absolute Error: 9.1056\n",
            "Test Set Mean Absolute Percentage Error: 0.0392\n"
          ]
        }
      ],
      "source": [
        "def create_model(neurons=16, optimizer='Adam'):\n",
        "    model = Sequential()\n",
        "    model.add(GRU(units=neurons, input_shape=(look_back, X_META1.shape[2])))\n",
        "    model.add(Dense(1, activation='linear'))\n",
        "    model.compile(loss='mse', optimizer=optimizer)\n",
        "    return model\n",
        "\n",
        "model = KerasRegressor(model=create_model,\n",
        "                       neurons=16,\n",
        "                       optimizer='Adam',\n",
        "                       verbose=0)\n",
        "\n",
        "\n",
        "param_grid = {'neurons': [16, 32, 64, 128, 256, 512],\n",
        "              'optimizer': ['RMSprop', 'Adam', 'AdamW', 'Nadam'],\n",
        "              'batch_size' :[16,32,64,128,256],\n",
        "              'epochs' :[60,80,100,150,200]}\n",
        "\n",
        "\n",
        "grid = GridSearchCV(estimator=model, param_grid=param_grid, cv=tscv, scoring='neg_mean_squared_error', n_jobs = -1)\n",
        "\n",
        "\n",
        "grid_result = grid.fit(X_META1, y_META1)\n",
        "\n",
        "best_model = grid_result.best_estimator_\n",
        "best_params = grid_result.best_params_\n",
        "\n",
        "\n",
        "y_pred = best_model.predict(X_META1)\n",
        "mse = mean_squared_error(y_META1, y_pred)\n",
        "rmse = root_mean_squared_error(y_META1, y_pred)\n",
        "mae = mean_absolute_error(y_META1, y_pred)\n",
        "mape = mean_absolute_percentage_error(y_META1, y_pred)\n",
        "print(f\"Best Hyperparameters: {best_params}\")\n",
        "print(f\"Test Set Mean Squared Error: {mse:.4f}\")\n",
        "print(f\"Test Set Root Mean Squared Error: {rmse:.4f}\")\n",
        "print(f\"Test Set Mean Absolute Error: {mae:.4f}\")\n",
        "print(f\"Test Set Mean Absolute Percentage Error: {mape:.4f}\")"
      ]
    },
    {
      "cell_type": "markdown",
      "metadata": {
        "id": "gOK2l4NYbGU-"
      },
      "source": [
        "#APPL"
      ]
    },
    {
      "cell_type": "code",
      "execution_count": 34,
      "metadata": {
        "id": "LEsjSeu9q6xD"
      },
      "outputs": [],
      "source": [
        "train_AAPL = df_AAPL.iloc[:train_size]  # ข้อมูล train\n",
        "test_AAPL = df_AAPL.iloc[train_size:]  # ข้อมูล test"
      ]
    },
    {
      "cell_type": "code",
      "execution_count": 35,
      "metadata": {
        "id": "A8OkRpKIq6i8"
      },
      "outputs": [],
      "source": [
        "X_AAPL = train_AAPL[[\"S&P500\",\"CPI\", \"NASDAQ\"]]\n",
        "y_AAPL = train_AAPL[\"Stockprice_AAPL\"]"
      ]
    },
    {
      "cell_type": "code",
      "execution_count": 36,
      "metadata": {
        "id": "ULaIYhth8cQX"
      },
      "outputs": [],
      "source": [
        "X_AAPL = scaler.fit_transform(X_AAPL)"
      ]
    },
    {
      "cell_type": "code",
      "execution_count": 37,
      "metadata": {
        "id": "kplx5WIvbmuc"
      },
      "outputs": [],
      "source": [
        "look_back = 10\n",
        "\n",
        "X_AAPL1, y_AAPL1 = [], []\n",
        "for i in range(len(X_AAPL) - look_back):\n",
        "    X_AAPL1.append(X_AAPL[i:i + look_back])\n",
        "    y_AAPL1.append(y_AAPL[i + look_back])\n",
        "\n",
        "X_AAPL1, y_AAPL1 = np.array(X_AAPL1), np.array(y_AAPL1)"
      ]
    },
    {
      "cell_type": "code",
      "execution_count": 38,
      "metadata": {
        "colab": {
          "base_uri": "https://localhost:8080/"
        },
        "id": "QNM7Z2Yab2e_",
        "outputId": "5d799fd3-54cb-4503-de7e-6c005af5bc5c"
      },
      "outputs": [
        {
          "output_type": "stream",
          "name": "stderr",
          "text": [
            "/usr/local/lib/python3.11/dist-packages/joblib/externals/loky/process_executor.py:782: UserWarning: A worker stopped while some jobs were given to the executor. This can be caused by a too short worker timeout or by a memory leak.\n",
            "  warnings.warn(\n",
            "/usr/local/lib/python3.11/dist-packages/numpy/ma/core.py:2846: RuntimeWarning: invalid value encountered in cast\n",
            "  _data = np.array(data, dtype=dtype, copy=copy,\n",
            "/usr/local/lib/python3.11/dist-packages/keras/src/layers/rnn/rnn.py:200: UserWarning: Do not pass an `input_shape`/`input_dim` argument to a layer. When using Sequential models, prefer using an `Input(shape)` object as the first layer in the model instead.\n",
            "  super().__init__(**kwargs)\n"
          ]
        },
        {
          "output_type": "stream",
          "name": "stdout",
          "text": [
            "Best Hyperparameters: {'batch_size': 16, 'epochs': 200, 'neurons': 512, 'optimizer': 'Nadam'}\n",
            "Test Set Mean Squared Error: 14.2868\n",
            "Test Set Root Mean Squared Error: 3.7798\n",
            "Test Set Mean Absolute Error: 3.0135\n",
            "Test Set Mean Absolute Percentage Error: 0.0182\n"
          ]
        }
      ],
      "source": [
        "def create_model(neurons=16, optimizer='Adam'):\n",
        "    model = Sequential()\n",
        "    model.add(GRU(units=neurons, input_shape=(look_back, X_AAPL1.shape[2])))\n",
        "    model.add(Dense(1, activation='linear'))\n",
        "    model.compile(loss='mse', optimizer=optimizer)\n",
        "    return model\n",
        "\n",
        "model = KerasRegressor(model=create_model,\n",
        "                       neurons=16,\n",
        "                       optimizer='Adam',\n",
        "                       verbose=0)\n",
        "\n",
        "\n",
        "param_grid = {'neurons': [16, 32, 64, 128, 256, 512],\n",
        "              'optimizer': ['RMSprop', 'Adam', 'AdamW', 'Nadam'],\n",
        "              'batch_size' :[16,32,64,128,256],\n",
        "              'epochs' :[60,80,100,150,200]}\n",
        "\n",
        "\n",
        "grid = GridSearchCV(estimator=model, param_grid=param_grid, cv=tscv, scoring='neg_mean_squared_error', n_jobs = -1)\n",
        "\n",
        "\n",
        "grid_result = grid.fit(X_AAPL1, y_AAPL1)\n",
        "\n",
        "best_model = grid_result.best_estimator_\n",
        "best_params = grid_result.best_params_\n",
        "\n",
        "y_pred = best_model.predict(X_AAPL1)\n",
        "mse = mean_squared_error(y_AAPL1, y_pred)\n",
        "rmse = root_mean_squared_error(y_AAPL1, y_pred)\n",
        "mae = mean_absolute_error(y_AAPL1, y_pred)\n",
        "mape = mean_absolute_percentage_error(y_AAPL1, y_pred)\n",
        "print(f\"Best Hyperparameters: {best_params}\")\n",
        "print(f\"Test Set Mean Squared Error: {mse:.4f}\")\n",
        "print(f\"Test Set Root Mean Squared Error: {rmse:.4f}\")\n",
        "print(f\"Test Set Mean Absolute Error: {mae:.4f}\")\n",
        "print(f\"Test Set Mean Absolute Percentage Error: {mape:.4f}\")"
      ]
    },
    {
      "cell_type": "markdown",
      "metadata": {
        "id": "heLfV9MWbLhy"
      },
      "source": [
        "#MSFT"
      ]
    },
    {
      "cell_type": "code",
      "execution_count": 39,
      "metadata": {
        "id": "ifskpSjoq97d"
      },
      "outputs": [],
      "source": [
        "train_MSFT = df_MSFT.iloc[:train_size]  # ข้อมูล train\n",
        "test_MSFT = df_MSFT.iloc[train_size:]  # ข้อมูล test"
      ]
    },
    {
      "cell_type": "code",
      "execution_count": 40,
      "metadata": {
        "id": "JWJZRhL6q91W"
      },
      "outputs": [],
      "source": [
        "X_MSFT = train_MSFT[[\"S&P500\",\"CPI\",\"Interest\",\"US_inflation_rate\", \"NASDAQ\"]]\n",
        "y_MSFT = train_MSFT[\"Stockprice_MSFT\"]"
      ]
    },
    {
      "cell_type": "code",
      "execution_count": 41,
      "metadata": {
        "id": "PhUx9a4d8gqP"
      },
      "outputs": [],
      "source": [
        "X_MSFT = scaler.fit_transform(X_MSFT)"
      ]
    },
    {
      "cell_type": "code",
      "execution_count": 42,
      "metadata": {
        "id": "JEYRxLXScVZV"
      },
      "outputs": [],
      "source": [
        "look_back = 10\n",
        "\n",
        "X_MSFT1, y_MSFT1 = [], []\n",
        "for i in range(len(X_MSFT) - look_back):\n",
        "    X_MSFT1.append(X_MSFT[i:i + look_back])\n",
        "    y_MSFT1.append(y_MSFT[i + look_back])\n",
        "\n",
        "X_MSFT1, y_MSFT1 = np.array(X_MSFT1), np.array(y_MSFT1)"
      ]
    },
    {
      "cell_type": "code",
      "execution_count": 43,
      "metadata": {
        "colab": {
          "base_uri": "https://localhost:8080/"
        },
        "id": "IklZWmgUcVZV",
        "outputId": "aecf0028-8455-4d1d-c0d8-228e0b84eebc"
      },
      "outputs": [
        {
          "output_type": "stream",
          "name": "stderr",
          "text": [
            "/usr/local/lib/python3.11/dist-packages/joblib/externals/loky/process_executor.py:782: UserWarning: A worker stopped while some jobs were given to the executor. This can be caused by a too short worker timeout or by a memory leak.\n",
            "  warnings.warn(\n",
            "/usr/local/lib/python3.11/dist-packages/numpy/ma/core.py:2846: RuntimeWarning: invalid value encountered in cast\n",
            "  _data = np.array(data, dtype=dtype, copy=copy,\n",
            "/usr/local/lib/python3.11/dist-packages/keras/src/layers/rnn/rnn.py:200: UserWarning: Do not pass an `input_shape`/`input_dim` argument to a layer. When using Sequential models, prefer using an `Input(shape)` object as the first layer in the model instead.\n",
            "  super().__init__(**kwargs)\n"
          ]
        },
        {
          "output_type": "stream",
          "name": "stdout",
          "text": [
            "Best Hyperparameters: {'batch_size': 16, 'epochs': 200, 'neurons': 512, 'optimizer': 'Adam'}\n",
            "Test Set Mean Squared Error: 143.7482\n",
            "Test Set Root Mean Squared Error: 11.9895\n",
            "Test Set Mean Absolute Error: 9.3632\n",
            "Test Set Mean Absolute Percentage Error: 0.0303\n"
          ]
        }
      ],
      "source": [
        "def create_model(neurons=16, optimizer='Adam'):\n",
        "    model = Sequential()\n",
        "    model.add(GRU(units=neurons, input_shape=(look_back, X_MSFT1.shape[2])))\n",
        "    model.add(Dense(1, activation='linear'))\n",
        "    model.compile(loss='mse', optimizer=optimizer)\n",
        "    return model\n",
        "\n",
        "model = KerasRegressor(model=create_model,\n",
        "                       neurons=16,\n",
        "                       optimizer='Adam',\n",
        "                       verbose=0)\n",
        "\n",
        "\n",
        "param_grid = {'neurons': [16, 32, 64, 128, 256, 512],\n",
        "              'optimizer': ['RMSprop', 'Adam', 'AdamW', 'Nadam'],\n",
        "              'batch_size' :[16,32,64,128,256],\n",
        "              'epochs' :[60,80,100,150,200]}\n",
        "\n",
        "\n",
        "grid = GridSearchCV(estimator=model, param_grid=param_grid, cv=tscv, scoring='neg_mean_squared_error', n_jobs = -1)\n",
        "\n",
        "\n",
        "grid_result = grid.fit(X_MSFT1, y_MSFT1)\n",
        "\n",
        "best_model = grid_result.best_estimator_\n",
        "best_params = grid_result.best_params_\n",
        "\n",
        "y_pred = best_model.predict(X_MSFT1)\n",
        "mse = mean_squared_error(y_MSFT1, y_pred)\n",
        "rmse = root_mean_squared_error(y_MSFT1, y_pred)\n",
        "mae = mean_absolute_error(y_MSFT1, y_pred)\n",
        "mape = mean_absolute_percentage_error(y_MSFT1, y_pred)\n",
        "print(f\"Best Hyperparameters: {best_params}\")\n",
        "print(f\"Test Set Mean Squared Error: {mse:.4f}\")\n",
        "print(f\"Test Set Root Mean Squared Error: {rmse:.4f}\")\n",
        "print(f\"Test Set Mean Absolute Error: {mae:.4f}\")\n",
        "print(f\"Test Set Mean Absolute Percentage Error: {mape:.4f}\")"
      ]
    },
    {
      "cell_type": "markdown",
      "metadata": {
        "id": "w56PKuGHbM5I"
      },
      "source": [
        "#NVDA"
      ]
    },
    {
      "cell_type": "code",
      "execution_count": 44,
      "metadata": {
        "id": "Oz5zZalBrCX9"
      },
      "outputs": [],
      "source": [
        "train_NVDA = df_NVDA.iloc[:train_size]  # ข้อมูล train\n",
        "test_NVDA = df_NVDA.iloc[train_size:]  # ข้อมูล test"
      ]
    },
    {
      "cell_type": "code",
      "execution_count": 45,
      "metadata": {
        "id": "r9JrzV8UrB_m"
      },
      "outputs": [],
      "source": [
        "X_NVDA = train_NVDA[[\"S&P500\", \"BTC\", \"CPI\", \"Gold\",\"US_inflation_rate\", \"NASDAQ\"]]\n",
        "y_NVDA = train_NVDA[\"Stockprice_NVDA\"]"
      ]
    },
    {
      "cell_type": "code",
      "execution_count": 46,
      "metadata": {
        "id": "Up2dgKyf8UA6"
      },
      "outputs": [],
      "source": [
        "X_NVDA = scaler.fit_transform(X_NVDA)"
      ]
    },
    {
      "cell_type": "code",
      "execution_count": 47,
      "metadata": {
        "id": "eH1H3e5VcWR2"
      },
      "outputs": [],
      "source": [
        "look_back = 10\n",
        "\n",
        "X_NVDA1, y_NVDA1 = [], []\n",
        "for i in range(len(X_NVDA) - look_back):\n",
        "    X_NVDA1.append(X_NVDA[i:i + look_back])\n",
        "    y_NVDA1.append(y_NVDA[i + look_back])\n",
        "\n",
        "X_NVDA1, y_NVDA1 = np.array(X_NVDA1), np.array(y_NVDA1)"
      ]
    },
    {
      "cell_type": "code",
      "execution_count": 48,
      "metadata": {
        "colab": {
          "base_uri": "https://localhost:8080/"
        },
        "id": "-KUkWSE_cWR2",
        "outputId": "59ac5b3f-ef2b-49e0-9240-237c3a10dd23"
      },
      "outputs": [
        {
          "output_type": "stream",
          "name": "stderr",
          "text": [
            "/usr/local/lib/python3.11/dist-packages/joblib/externals/loky/process_executor.py:782: UserWarning: A worker stopped while some jobs were given to the executor. This can be caused by a too short worker timeout or by a memory leak.\n",
            "  warnings.warn(\n",
            "/usr/local/lib/python3.11/dist-packages/keras/src/layers/rnn/rnn.py:200: UserWarning: Do not pass an `input_shape`/`input_dim` argument to a layer. When using Sequential models, prefer using an `Input(shape)` object as the first layer in the model instead.\n",
            "  super().__init__(**kwargs)\n"
          ]
        },
        {
          "output_type": "stream",
          "name": "stdout",
          "text": [
            "Best Hyperparameters: {'batch_size': 16, 'epochs': 200, 'neurons': 512, 'optimizer': 'RMSprop'}\n",
            "Test Set Mean Squared Error: 6.4995\n",
            "Test Set Root Mean Squared Error: 2.5494\n",
            "Test Set Mean Absolute Error: 1.6196\n",
            "Test Set Mean Absolute Percentage Error: 0.0482\n"
          ]
        }
      ],
      "source": [
        "def create_model(neurons=16, optimizer='Adam'):\n",
        "    model = Sequential()\n",
        "    model.add(GRU(units=neurons, input_shape=(look_back,X_NVDA1.shape[2])))\n",
        "    model.add(Dense(1, activation='linear'))\n",
        "    model.compile(loss='mse', optimizer=optimizer)\n",
        "    return model\n",
        "\n",
        "model = KerasRegressor(model=create_model,\n",
        "                       neurons=16,\n",
        "                       optimizer='Adam',\n",
        "                       verbose=0)\n",
        "\n",
        "\n",
        "param_grid = {'neurons': [16, 32, 64, 128, 256, 512],\n",
        "              'optimizer': ['RMSprop', 'Adam', 'AdamW', 'Nadam'],\n",
        "              'batch_size' :[16,32,64,128,256],\n",
        "              'epochs' :[60,80,100,150,200]}\n",
        "\n",
        "\n",
        "grid = GridSearchCV(estimator=model, param_grid=param_grid, cv=tscv, scoring='neg_mean_squared_error', n_jobs = -1)\n",
        "\n",
        "\n",
        "grid_result = grid.fit(X_NVDA1, y_NVDA1)\n",
        "\n",
        "best_model = grid_result.best_estimator_\n",
        "best_params = grid_result.best_params_\n",
        "\n",
        "y_pred = best_model.predict(X_NVDA1)\n",
        "mse = mean_squared_error(y_NVDA1, y_pred)\n",
        "rmse = root_mean_squared_error(y_NVDA1, y_pred)\n",
        "mae = mean_absolute_error(y_NVDA1, y_pred)\n",
        "mape = mean_absolute_percentage_error(y_NVDA1, y_pred)\n",
        "print(f\"Best Hyperparameters: {best_params}\")\n",
        "print(f\"Test Set Mean Squared Error: {mse:.4f}\")\n",
        "print(f\"Test Set Root Mean Squared Error: {rmse:.4f}\")\n",
        "print(f\"Test Set Mean Absolute Error: {mae:.4f}\")\n",
        "print(f\"Test Set Mean Absolute Percentage Error: {mape:.4f}\")"
      ]
    },
    {
      "cell_type": "markdown",
      "metadata": {
        "id": "xgF9NdusbOSD"
      },
      "source": [
        "#GOOG"
      ]
    },
    {
      "cell_type": "code",
      "execution_count": 49,
      "metadata": {
        "id": "gOuGxqTPiK9H"
      },
      "outputs": [],
      "source": [
        "train_GOOG = df_GOOG.iloc[:train_size]  # ข้อมูล train\n",
        "test_GOOG = df_GOOG.iloc[train_size:]  # ข้อมูล test"
      ]
    },
    {
      "cell_type": "code",
      "execution_count": 50,
      "metadata": {
        "id": "tq-voUTqrI89"
      },
      "outputs": [],
      "source": [
        "X_GOOG = train_GOOG[[\"S&P500\", \"Gold\", \"CPI\", \"Interest\", \"UNEMPLOYMENT\", \"NASDAQ\"]]\n",
        "y_GOOG = train_GOOG[\"Stockprice_GOOGL\"]"
      ]
    },
    {
      "cell_type": "code",
      "execution_count": 51,
      "metadata": {
        "id": "nUFWaVZn8XBx"
      },
      "outputs": [],
      "source": [
        "X_GOOG = scaler.fit_transform(X_GOOG)"
      ]
    },
    {
      "cell_type": "code",
      "execution_count": 52,
      "metadata": {
        "id": "vmzi_kf8cWvA"
      },
      "outputs": [],
      "source": [
        "look_back = 10\n",
        "\n",
        "X_GOOG1, y_GOOG1 = [], []\n",
        "for i in range(len(X_GOOG) - look_back):\n",
        "    X_GOOG1.append(X_GOOG[i:i + look_back])\n",
        "    y_GOOG1.append(y_GOOG[i + look_back])\n",
        "\n",
        "X_GOOG1, y_GOOG1 = np.array(X_GOOG1), np.array(y_GOOG1)"
      ]
    },
    {
      "cell_type": "code",
      "execution_count": 53,
      "metadata": {
        "colab": {
          "base_uri": "https://localhost:8080/"
        },
        "id": "p7u2SbDqcWvB",
        "outputId": "ba118031-5653-4f82-a1d6-62f3f34173aa"
      },
      "outputs": [
        {
          "output_type": "stream",
          "name": "stderr",
          "text": [
            "/usr/local/lib/python3.11/dist-packages/joblib/externals/loky/process_executor.py:782: UserWarning: A worker stopped while some jobs were given to the executor. This can be caused by a too short worker timeout or by a memory leak.\n",
            "  warnings.warn(\n",
            "/usr/local/lib/python3.11/dist-packages/numpy/ma/core.py:2846: RuntimeWarning: invalid value encountered in cast\n",
            "  _data = np.array(data, dtype=dtype, copy=copy,\n",
            "/usr/local/lib/python3.11/dist-packages/keras/src/layers/rnn/rnn.py:200: UserWarning: Do not pass an `input_shape`/`input_dim` argument to a layer. When using Sequential models, prefer using an `Input(shape)` object as the first layer in the model instead.\n",
            "  super().__init__(**kwargs)\n"
          ]
        },
        {
          "output_type": "stream",
          "name": "stdout",
          "text": [
            "Best Hyperparameters: {'batch_size': 16, 'epochs': 200, 'neurons': 256, 'optimizer': 'AdamW'}\n",
            "Test Set Mean Squared Error: 15.3281\n",
            "Test Set Root Mean Squared Error: 3.9151\n",
            "Test Set Mean Absolute Error: 3.0910\n",
            "Test Set Mean Absolute Percentage Error: 0.0260\n"
          ]
        }
      ],
      "source": [
        "def create_model(neurons=16, optimizer='Adam'):\n",
        "    model = Sequential()\n",
        "    model.add(GRU(units=neurons, input_shape=(look_back,X_GOOG1.shape[2])))\n",
        "    model.add(Dense(1, activation='linear'))\n",
        "    model.compile(loss='mse', optimizer=optimizer)\n",
        "    return model\n",
        "\n",
        "model = KerasRegressor(model=create_model,\n",
        "                       neurons=16,\n",
        "                       optimizer='Adam',\n",
        "                       verbose=0)\n",
        "\n",
        "\n",
        "param_grid = {'neurons': [16, 32, 64, 128, 256, 512],\n",
        "              'optimizer': ['RMSprop', 'Adam', 'AdamW', 'Nadam'],\n",
        "              'batch_size' :[16,32,64,128,256],\n",
        "              'epochs' :[60,80,100,150,200]}\n",
        "\n",
        "grid = GridSearchCV(estimator=model, param_grid=param_grid, cv=tscv, scoring='neg_mean_squared_error', n_jobs = -1)\n",
        "\n",
        "\n",
        "grid_result = grid.fit(X_GOOG1, y_GOOG1)\n",
        "\n",
        "best_model = grid_result.best_estimator_\n",
        "best_params = grid_result.best_params_\n",
        "\n",
        "y_pred = best_model.predict(X_GOOG1)\n",
        "mse = mean_squared_error(y_GOOG1, y_pred)\n",
        "rmse = root_mean_squared_error(y_GOOG1, y_pred)\n",
        "mae = mean_absolute_error(y_GOOG1, y_pred)\n",
        "mape = mean_absolute_percentage_error(y_GOOG1, y_pred)\n",
        "print(f\"Best Hyperparameters: {best_params}\")\n",
        "print(f\"Test Set Mean Squared Error: {mse:.4f}\")\n",
        "print(f\"Test Set Root Mean Squared Error: {rmse:.4f}\")\n",
        "print(f\"Test Set Mean Absolute Error: {mae:.4f}\")\n",
        "print(f\"Test Set Mean Absolute Percentage Error: {mape:.4f}\")"
      ]
    }
  ]
}