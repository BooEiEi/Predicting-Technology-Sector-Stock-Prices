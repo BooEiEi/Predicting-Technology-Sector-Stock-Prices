{
  "nbformat": 4,
  "nbformat_minor": 0,
  "metadata": {
    "colab": {
      "provenance": [],
      "toc_visible": true,
      "authorship_tag": "ABX9TyOq2VpQXs0fMiP3lJ+lcME5",
      "include_colab_link": true
    },
    "kernelspec": {
      "name": "python3",
      "display_name": "Python 3"
    },
    "language_info": {
      "name": "python"
    }
  },
  "cells": [
    {
      "cell_type": "markdown",
      "metadata": {
        "id": "view-in-github",
        "colab_type": "text"
      },
      "source": [
        "<a href=\"https://colab.research.google.com/github/BooEiEi/Predicting-Technology-Sector-Stock-Prices/blob/main/Hyperparameter_LightGBM_V2.ipynb\" target=\"_parent\"><img src=\"https://colab.research.google.com/assets/colab-badge.svg\" alt=\"Open In Colab\"/></a>"
      ]
    },
    {
      "cell_type": "markdown",
      "source": [
        "#DATA"
      ],
      "metadata": {
        "id": "PMcQR3TuqnKO"
      }
    },
    {
      "cell_type": "code",
      "execution_count": 1,
      "metadata": {
        "id": "HjTjxq5GqNpR",
        "colab": {
          "base_uri": "https://localhost:8080/"
        },
        "outputId": "d076d13a-bf1a-480c-d8c0-d36905999a37"
      },
      "outputs": [
        {
          "output_type": "stream",
          "name": "stdout",
          "text": [
            "Mounted at /content/drive\n"
          ]
        }
      ],
      "source": [
        "import os# os ใช้จัดการกับไฟล์ ว่าอยู่ที่ไหน\n",
        "import numpy as np\n",
        "import pandas as pd\n",
        "import seaborn as sns\n",
        "import matplotlib.pyplot as plt\n",
        "from google.colab import drive #เชื่อม Google drive\n",
        "drive.mount('/content/drive')\n",
        "path_DF = '/content/drive/My Drive/master project/data/DF4'"
      ]
    },
    {
      "cell_type": "code",
      "execution_count": 11,
      "metadata": {
        "id": "Hnf04qw0EY-V"
      },
      "outputs": [],
      "source": [
        "import lightgbm\n",
        "import sklearn\n",
        "from lightgbm import LGBMRegressor\n",
        "from sklearn.preprocessing import MinMaxScaler\n",
        "from sklearn.model_selection import GridSearchCV, TimeSeriesSplit\n",
        "from sklearn.metrics import mean_squared_error, mean_absolute_error, root_mean_squared_error, mean_absolute_percentage_error"
      ]
    },
    {
      "cell_type": "code",
      "execution_count": 3,
      "metadata": {
        "id": "gG9YiElc_7kz"
      },
      "outputs": [],
      "source": [
        "df_META = pd.read_csv(os.path.join(path_DF, 'df_META.csv'))\n",
        "df_AAPL= pd.read_csv(os.path.join(path_DF, 'df_AAPL.csv'))\n",
        "df_MSFT= pd.read_csv(os.path.join(path_DF, 'df_MSFT.csv'))\n",
        "df_NVDA= pd.read_csv(os.path.join(path_DF, 'df_NVDA.csv'))\n",
        "df_GOOG= pd.read_csv(os.path.join(path_DF, 'df_GOOG.csv'))"
      ]
    },
    {
      "cell_type": "code",
      "execution_count": 4,
      "metadata": {
        "id": "uSTDB5B9ugYP"
      },
      "outputs": [],
      "source": [
        "df_META=df_META.drop(['Unnamed: 0'], axis=1)\n",
        "df_META['date'] = pd.to_datetime(df_META['date'])\n",
        "df_META = df_META.sort_values('date').reset_index(drop=True)"
      ]
    },
    {
      "cell_type": "code",
      "execution_count": 5,
      "metadata": {
        "id": "djQalIUbey2Z"
      },
      "outputs": [],
      "source": [
        "df_AAPL=df_AAPL.drop(['Unnamed: 0'], axis=1)\n",
        "df_AAPL['date'] = pd.to_datetime(df_AAPL['date'])\n",
        "df_AAPL = df_AAPL.sort_values('date').reset_index(drop=True)"
      ]
    },
    {
      "cell_type": "code",
      "execution_count": 6,
      "metadata": {
        "id": "phlW5GTCey2Z"
      },
      "outputs": [],
      "source": [
        "df_MSFT=df_MSFT.drop(['Unnamed: 0'], axis=1)\n",
        "df_MSFT['date'] = pd.to_datetime(df_MSFT['date'])\n",
        "df_MSFT = df_MSFT.sort_values('date').reset_index(drop=True)"
      ]
    },
    {
      "cell_type": "code",
      "execution_count": 7,
      "metadata": {
        "id": "6W6ztoJuey2Z"
      },
      "outputs": [],
      "source": [
        "df_NVDA=df_NVDA.drop(['Unnamed: 0'], axis=1)\n",
        "df_NVDA['date'] = pd.to_datetime(df_NVDA['date'])\n",
        "df_NVDA = df_NVDA.sort_values('date').reset_index(drop=True)"
      ]
    },
    {
      "cell_type": "code",
      "execution_count": 8,
      "metadata": {
        "id": "LQ9DvJ_Dey2Z"
      },
      "outputs": [],
      "source": [
        "df_GOOG=df_GOOG.drop(['Unnamed: 0'], axis=1)\n",
        "df_GOOG['date'] = pd.to_datetime(df_GOOG['date'])\n",
        "df_GOOG = df_GOOG.sort_values('date').reset_index(drop=True)"
      ]
    },
    {
      "cell_type": "markdown",
      "source": [
        "#Normalized"
      ],
      "metadata": {
        "id": "H69T-AnrJdHG"
      }
    },
    {
      "cell_type": "code",
      "execution_count": 9,
      "metadata": {
        "id": "ag8q6iyhqdaZ"
      },
      "outputs": [],
      "source": [
        "train_size = int(len(df_META) * 0.75)\n",
        "test_size = len(df_META) - train_size"
      ]
    },
    {
      "cell_type": "code",
      "source": [
        "scaler = MinMaxScaler()"
      ],
      "metadata": {
        "id": "aqGWfq2uVvs6"
      },
      "execution_count": 12,
      "outputs": []
    },
    {
      "cell_type": "code",
      "source": [
        "X_META = df_META.drop(columns=[\"Stockprice_META\",\"date\"])\n",
        "y_META = df_META[\"Stockprice_META\"]\n",
        "X_META['has_news'] = X_META['sentiment_META'].apply(lambda x: 1 if x != 0.0 else 0)"
      ],
      "metadata": {
        "id": "GJ95ze7fNHkU"
      },
      "execution_count": 13,
      "outputs": []
    },
    {
      "cell_type": "code",
      "execution_count": 14,
      "metadata": {
        "id": "A8OkRpKIq6i8"
      },
      "outputs": [],
      "source": [
        "X_AAPL = df_AAPL.drop(columns=[\"Stockprice_AAPL\",\"date\"])\n",
        "y_AAPL = df_AAPL[\"Stockprice_AAPL\"]\n",
        "X_AAPL['has_news'] = X_AAPL['sentiment_AAPL'].apply(lambda x: 1 if x != 0.0 else 0)"
      ]
    },
    {
      "cell_type": "code",
      "execution_count": 15,
      "metadata": {
        "id": "tq-voUTqrI89"
      },
      "outputs": [],
      "source": [
        "X_GOOG = df_GOOG.drop(columns=[\"Stockprice_GOOGL\",\"date\"])\n",
        "y_GOOG = df_GOOG[\"Stockprice_GOOGL\"]\n",
        "X_GOOG['has_news'] = X_GOOG['sentiment_GOOGL'].apply(lambda x: 1 if x != 0.0 else 0)"
      ]
    },
    {
      "cell_type": "code",
      "execution_count": 16,
      "metadata": {
        "id": "r9JrzV8UrB_m"
      },
      "outputs": [],
      "source": [
        "X_NVDA = df_NVDA.drop(columns=[\"Stockprice_NVDA\",\"date\"])\n",
        "y_NVDA = df_NVDA[\"Stockprice_NVDA\"]\n",
        "X_NVDA['has_news'] = X_NVDA['sentiment_NVDA'].apply(lambda x: 1 if x != 0.0 else 0)"
      ]
    },
    {
      "cell_type": "code",
      "execution_count": 17,
      "metadata": {
        "id": "JWJZRhL6q91W"
      },
      "outputs": [],
      "source": [
        "X_MSFT = df_MSFT.drop(columns=[\"Stockprice_MSFT\",\"date\"])\n",
        "y_MSFT = df_MSFT[\"Stockprice_MSFT\"]\n",
        "X_MSFT['has_news'] = X_MSFT['sentiment_MSFT'].apply(lambda x: 1 if x != 0.0 else 0)"
      ]
    },
    {
      "cell_type": "code",
      "execution_count": 18,
      "metadata": {
        "id": "iMokZmc2qCHc"
      },
      "outputs": [],
      "source": [
        "Xtrain_META, XTest_META = X_META.iloc[:train_size], X_META.iloc[train_size:] # ข้อมูล train\n",
        "ytrain_META, yTest_META = y_META.iloc[:train_size], y_META.iloc[train_size:] # ข้อมูล test"
      ]
    },
    {
      "cell_type": "code",
      "execution_count": 19,
      "metadata": {
        "id": "uzWB52Ppob3I"
      },
      "outputs": [],
      "source": [
        "Xtrain_AAPL, XTest_AAPL = X_AAPL.iloc[:train_size], X_AAPL.iloc[train_size:] # ข้อมูล train\n",
        "ytrain_AAPL, yTest_AAPL = y_AAPL.iloc[:train_size], y_AAPL.iloc[train_size:] # ข้อมูล test"
      ]
    },
    {
      "cell_type": "code",
      "execution_count": 20,
      "metadata": {
        "id": "A7d33A0uob84"
      },
      "outputs": [],
      "source": [
        "Xtrain_GOOG, XTest_GOOG = X_GOOG.iloc[:train_size], X_GOOG.iloc[train_size:] # ข้อมูล train\n",
        "ytrain_GOOG, yTest_GOOG = y_GOOG.iloc[:train_size], y_GOOG.iloc[train_size:] # ข้อมูล test"
      ]
    },
    {
      "cell_type": "code",
      "execution_count": 21,
      "metadata": {
        "id": "Sj_YcsuXocCz"
      },
      "outputs": [],
      "source": [
        "Xtrain_MSFT, XTest_MSFT = X_MSFT.iloc[:train_size], X_MSFT.iloc[train_size:] # ข้อมูล train\n",
        "ytrain_MSFT, yTest_MSFT = y_MSFT.iloc[:train_size], y_MSFT.iloc[train_size:] # ข้อมูล test"
      ]
    },
    {
      "cell_type": "code",
      "execution_count": 22,
      "metadata": {
        "id": "phJ7tDp-ocMd"
      },
      "outputs": [],
      "source": [
        "Xtrain_NVDA, XTest_NVDA = X_NVDA.iloc[:train_size], X_NVDA.iloc[train_size:] # ข้อมูล train\n",
        "ytrain_NVDA, yTest_NVDA = y_NVDA.iloc[:train_size], y_NVDA.iloc[train_size:] # ข้อมูล test"
      ]
    },
    {
      "cell_type": "code",
      "source": [
        "Xtrain_META = scaler.fit_transform(Xtrain_META)\n",
        "XTest_META =  scaler.transform(XTest_META)"
      ],
      "metadata": {
        "id": "lLfuUfoVJe7H"
      },
      "execution_count": 23,
      "outputs": []
    },
    {
      "cell_type": "code",
      "source": [
        "Xtrain_AAPL = scaler.fit_transform(Xtrain_AAPL)\n",
        "XTest_AAPL = scaler.transform(XTest_AAPL)"
      ],
      "metadata": {
        "id": "mu6cG12FpQy2"
      },
      "execution_count": 24,
      "outputs": []
    },
    {
      "cell_type": "code",
      "source": [
        "Xtrain_GOOG = scaler.fit_transform(Xtrain_GOOG)\n",
        "XTest_GOOG = scaler.transform(XTest_GOOG)"
      ],
      "metadata": {
        "id": "BMY9ks_DpQj9"
      },
      "execution_count": 25,
      "outputs": []
    },
    {
      "cell_type": "code",
      "source": [
        "Xtrain_MSFT = scaler.fit_transform(Xtrain_MSFT)\n",
        "XTest_MSFT = scaler.transform(XTest_MSFT)"
      ],
      "metadata": {
        "id": "fZ4FAzrJpQZZ"
      },
      "execution_count": 26,
      "outputs": []
    },
    {
      "cell_type": "code",
      "source": [
        "Xtrain_NVDA = scaler.fit_transform(Xtrain_NVDA)\n",
        "XTest_NVDA = scaler.transform(XTest_NVDA)"
      ],
      "metadata": {
        "id": "lj59PYJYpQJm"
      },
      "execution_count": 27,
      "outputs": []
    },
    {
      "cell_type": "markdown",
      "source": [
        "#GOOGL"
      ],
      "metadata": {
        "id": "EPGcga_SfWmz"
      }
    },
    {
      "cell_type": "code",
      "source": [
        "model = LGBMRegressor(random_state=42, verbosity=-1)\n",
        "\n",
        "param_grid = {\n",
        "    'learning_rate': [0.01, 0.1, 0.2],\n",
        "    'max_depth': [3, 5, 7, 9],\n",
        "    'min_data_in_leaf': [25, 50, 100, 150, 200],\n",
        "    'alpha': [0.1, 1, 5, 10, 15],\n",
        "    'reg_lambda' : [0.1, 1, 5, 10, 15],\n",
        "    'n_estimators' : [100, 200, 400, 600],\n",
        "    'feature_fraction': [0.5, 0.6, 0.7, 0.8, 0.9],\n",
        "    'max_bin' : [50, 100, 150, 200, 400]\n",
        "}\n",
        "\n",
        "tscv = TimeSeriesSplit(n_splits=5)\n",
        "\n",
        "grid_search = GridSearchCV(estimator=model, param_grid=param_grid, cv=tscv,\n",
        "                           scoring='neg_mean_squared_error', n_jobs=-1)\n",
        "\n",
        "grid_search.fit(Xtrain_GOOG , ytrain_GOOG)\n",
        "\n",
        "best_model = grid_search.best_estimator_\n",
        "best_params = grid_search.best_params_\n",
        "\n",
        "y_pred = best_model.predict(Xtrain_GOOG)\n",
        "mse = mean_squared_error(ytrain_GOOG, y_pred)\n",
        "rmse = root_mean_squared_error(ytrain_GOOG, y_pred)\n",
        "mae = mean_absolute_error(ytrain_GOOG, y_pred)\n",
        "mape = mean_absolute_percentage_error(ytrain_GOOG, y_pred)\n",
        "print(f\"Best Hyperparameters: {best_params}\")\n",
        "print(f\"Test Set Mean Squared Error: {mse:.4f}\")\n",
        "print(f\"Test Set Root Mean Squared Error: {rmse:.4f}\")\n",
        "print(f\"Test Set Mean Absolute Error: {mae:.4f}\")\n",
        "print(f\"Test Set Mean Absolute Percentage Error: {mape:.4f}\")"
      ],
      "metadata": {
        "id": "FtGMuBJmffzz",
        "colab": {
          "base_uri": "https://localhost:8080/"
        },
        "outputId": "c09ab24d-3dd0-447b-a68a-329a66160feb"
      },
      "execution_count": 29,
      "outputs": [
        {
          "output_type": "stream",
          "name": "stderr",
          "text": [
            "/usr/local/lib/python3.11/dist-packages/sklearn/utils/deprecation.py:151: FutureWarning: 'force_all_finite' was renamed to 'ensure_all_finite' in 1.6 and will be removed in 1.8.\n",
            "  warnings.warn(\n"
          ]
        },
        {
          "output_type": "stream",
          "name": "stdout",
          "text": [
            "Best Hyperparameters: {'alpha': 0.1, 'feature_fraction': 0.6, 'learning_rate': 0.2, 'max_bin': 150, 'max_depth': 3, 'min_data_in_leaf': 25, 'n_estimators': 100, 'reg_lambda': 5}\n",
            "Test Set Mean Squared Error: 3.3772\n",
            "Test Set Root Mean Squared Error: 1.8377\n",
            "Test Set Mean Absolute Error: 1.4083\n",
            "Test Set Mean Absolute Percentage Error: 0.0116\n"
          ]
        },
        {
          "output_type": "stream",
          "name": "stderr",
          "text": [
            "/usr/local/lib/python3.11/dist-packages/sklearn/utils/deprecation.py:151: FutureWarning: 'force_all_finite' was renamed to 'ensure_all_finite' in 1.6 and will be removed in 1.8.\n",
            "  warnings.warn(\n"
          ]
        }
      ]
    },
    {
      "cell_type": "markdown",
      "source": [
        "#AAPL"
      ],
      "metadata": {
        "id": "PCu8TnURfRQl"
      }
    },
    {
      "cell_type": "code",
      "source": [
        "model = LGBMRegressor(random_state=42, verbosity=-1)\n",
        "\n",
        "param_grid = {\n",
        "    'learning_rate': [0.01, 0.1, 0.2],\n",
        "    'max_depth': [3, 5, 7, 9],\n",
        "    'min_data_in_leaf': [25, 50, 100, 150, 200],\n",
        "    'n_estimators' : [100, 200, 400, 600],\n",
        "    'feature_fraction': [0.5, 0.6, 0.7, 0.8, 0.9],\n",
        "    'max_bin' : [50, 100, 150, 200, 400]\n",
        "}\n",
        "\n",
        "tscv = TimeSeriesSplit(n_splits=5)\n",
        "\n",
        "grid_search = GridSearchCV(estimator=model, param_grid=param_grid, cv=tscv,\n",
        "                           scoring='neg_mean_squared_error', n_jobs=-1)\n",
        "\n",
        "grid_search.fit(Xtrain_AAPL , ytrain_AAPL)\n",
        "\n",
        "best_model = grid_search.best_estimator_\n",
        "best_params = grid_search.best_params_\n",
        "\n",
        "y_pred = best_model.predict(Xtrain_AAPL)\n",
        "mse = mean_squared_error(ytrain_AAPL, y_pred)\n",
        "rmse = root_mean_squared_error(ytrain_AAPL, y_pred)\n",
        "mae = mean_absolute_error(ytrain_AAPL, y_pred)\n",
        "mape = mean_absolute_percentage_error(ytrain_AAPL, y_pred)\n",
        "print(f\"Best Hyperparameters: {best_params}\")\n",
        "print(f\"Test Set Mean Squared Error: {mse:.4f}\")\n",
        "print(f\"Test Set Root Mean Squared Error: {rmse:.4f}\")\n",
        "print(f\"Test Set Mean Absolute Error: {mae:.4f}\")\n",
        "print(f\"Test Set Mean Absolute Percentage Error: {mape:.4f}\")"
      ],
      "metadata": {
        "id": "r_pEvVc7fkx2",
        "colab": {
          "base_uri": "https://localhost:8080/"
        },
        "outputId": "c8bbee32-ccbb-4f77-d648-23b6a13e0c41"
      },
      "execution_count": 30,
      "outputs": [
        {
          "output_type": "stream",
          "name": "stderr",
          "text": [
            "/usr/local/lib/python3.11/dist-packages/sklearn/utils/deprecation.py:151: FutureWarning: 'force_all_finite' was renamed to 'ensure_all_finite' in 1.6 and will be removed in 1.8.\n",
            "  warnings.warn(\n",
            "/usr/local/lib/python3.11/dist-packages/sklearn/utils/deprecation.py:151: FutureWarning: 'force_all_finite' was renamed to 'ensure_all_finite' in 1.6 and will be removed in 1.8.\n",
            "  warnings.warn(\n"
          ]
        },
        {
          "output_type": "stream",
          "name": "stdout",
          "text": [
            "Best Hyperparameters: {'feature_fraction': 0.7, 'learning_rate': 0.2, 'max_bin': 200, 'max_depth': 3, 'min_data_in_leaf': 25, 'n_estimators': 600}\n",
            "Test Set Mean Squared Error: 0.3977\n",
            "Test Set Root Mean Squared Error: 0.6306\n",
            "Test Set Mean Absolute Error: 0.4700\n",
            "Test Set Mean Absolute Percentage Error: 0.0029\n"
          ]
        }
      ]
    },
    {
      "cell_type": "markdown",
      "source": [
        "#MSFT"
      ],
      "metadata": {
        "id": "us2gS4ESfTwr"
      }
    },
    {
      "cell_type": "code",
      "source": [
        "model = LGBMRegressor(random_state=42, verbosity=-1)\n",
        "\n",
        "param_grid = {\n",
        "    'learning_rate': [0.01, 0.1, 0.2],\n",
        "    'max_depth': [3, 5, 7, 9],\n",
        "    'min_data_in_leaf': [25, 50, 100, 150, 200],\n",
        "    'n_estimators' : [100, 200, 400, 600],\n",
        "    'feature_fraction': [0.5, 0.6, 0.7, 0.8, 0.9],\n",
        "    'max_bin' : [50, 100, 150, 200, 400]\n",
        "}\n",
        "tscv = TimeSeriesSplit(n_splits=5)\n",
        "\n",
        "grid_search = GridSearchCV(estimator=model, param_grid=param_grid, cv=tscv,\n",
        "                           scoring='neg_mean_squared_error', n_jobs=-1)\n",
        "\n",
        "grid_search.fit(Xtrain_MSFT , ytrain_MSFT)\n",
        "\n",
        "best_model = grid_search.best_estimator_\n",
        "best_params = grid_search.best_params_\n",
        "\n",
        "y_pred = best_model.predict(Xtrain_MSFT)\n",
        "mse = mean_squared_error(ytrain_MSFT, y_pred)\n",
        "rmse = root_mean_squared_error(ytrain_MSFT, y_pred)\n",
        "mae = mean_absolute_error(ytrain_MSFT, y_pred)\n",
        "mape = mean_absolute_percentage_error(ytrain_MSFT, y_pred)\n",
        "print(f\"Best Hyperparameters: {best_params}\")\n",
        "print(f\"Test Set Mean Squared Error: {mse:.4f}\")\n",
        "print(f\"Test Set Root Mean Squared Error: {rmse:.4f}\")\n",
        "print(f\"Test Set Mean Absolute Error: {mae:.4f}\")\n",
        "print(f\"Test Set Mean Absolute Percentage Error: {mape:.4f}\")"
      ],
      "metadata": {
        "id": "ovVI3nElfnZF",
        "colab": {
          "base_uri": "https://localhost:8080/"
        },
        "outputId": "77ed4069-9968-4e03-e531-4237712a263e"
      },
      "execution_count": 31,
      "outputs": [
        {
          "output_type": "stream",
          "name": "stdout",
          "text": [
            "Best Hyperparameters: {'feature_fraction': 0.6, 'learning_rate': 0.2, 'max_bin': 100, 'max_depth': 3, 'min_data_in_leaf': 25, 'n_estimators': 600}\n",
            "Test Set Mean Squared Error: 1.6576\n",
            "Test Set Root Mean Squared Error: 1.2875\n",
            "Test Set Mean Absolute Error: 1.0090\n",
            "Test Set Mean Absolute Percentage Error: 0.0033\n"
          ]
        },
        {
          "output_type": "stream",
          "name": "stderr",
          "text": [
            "/usr/local/lib/python3.11/dist-packages/sklearn/utils/deprecation.py:151: FutureWarning: 'force_all_finite' was renamed to 'ensure_all_finite' in 1.6 and will be removed in 1.8.\n",
            "  warnings.warn(\n",
            "/usr/local/lib/python3.11/dist-packages/sklearn/utils/deprecation.py:151: FutureWarning: 'force_all_finite' was renamed to 'ensure_all_finite' in 1.6 and will be removed in 1.8.\n",
            "  warnings.warn(\n"
          ]
        }
      ]
    },
    {
      "cell_type": "markdown",
      "source": [
        "#NVDA"
      ],
      "metadata": {
        "id": "2KOTUFOZfVE1"
      }
    },
    {
      "cell_type": "code",
      "source": [
        "model = LGBMRegressor(random_state=42, verbosity=-1)\n",
        "\n",
        "param_grid = {\n",
        "    'learning_rate': [0.01, 0.1, 0.2],\n",
        "    'max_depth': [3, 5, 7, 9],\n",
        "    'min_data_in_leaf': [25, 50, 100, 150, 200],\n",
        "    'n_estimators' : [100, 200, 400, 600],\n",
        "    'feature_fraction': [0.5, 0.6, 0.7, 0.8, 0.9],\n",
        "    'max_bin' : [50, 100, 150, 200, 400]\n",
        "}\n",
        "tscv = TimeSeriesSplit(n_splits=5)\n",
        "\n",
        "grid_search = GridSearchCV(estimator=model, param_grid=param_grid, cv=tscv,\n",
        "                           scoring='neg_mean_squared_error', n_jobs=-1)\n",
        "\n",
        "grid_search.fit(Xtrain_NVDA , ytrain_NVDA)\n",
        "\n",
        "best_model = grid_search.best_estimator_\n",
        "best_params = grid_search.best_params_\n",
        "\n",
        "y_pred = best_model.predict(Xtrain_NVDA)\n",
        "mse = mean_squared_error(ytrain_NVDA, y_pred)\n",
        "rmse = root_mean_squared_error(ytrain_NVDA, y_pred)\n",
        "mae = mean_absolute_error(ytrain_NVDA, y_pred)\n",
        "mape = mean_absolute_percentage_error(ytrain_NVDA, y_pred)\n",
        "print(f\"Best Hyperparameters: {best_params}\")\n",
        "print(f\"Test Set Mean Squared Error: {mse:.4f}\")\n",
        "print(f\"Test Set Root Mean Squared Error: {rmse:.4f}\")\n",
        "print(f\"Test Set Mean Absolute Error: {mae:.4f}\")\n",
        "print(f\"Test Set Mean Absolute Percentage Error: {mape:.4f}\")"
      ],
      "metadata": {
        "id": "wuWIECrSfqBl",
        "colab": {
          "base_uri": "https://localhost:8080/"
        },
        "outputId": "95a960be-3596-49a2-8240-82deae9a576c"
      },
      "execution_count": 32,
      "outputs": [
        {
          "output_type": "stream",
          "name": "stdout",
          "text": [
            "Best Hyperparameters: {'feature_fraction': 0.5, 'learning_rate': 0.2, 'max_bin': 100, 'max_depth': 3, 'min_data_in_leaf': 25, 'n_estimators': 600}\n",
            "Test Set Mean Squared Error: 0.1632\n",
            "Test Set Root Mean Squared Error: 0.4040\n",
            "Test Set Mean Absolute Error: 0.2980\n",
            "Test Set Mean Absolute Percentage Error: 0.0097\n"
          ]
        },
        {
          "output_type": "stream",
          "name": "stderr",
          "text": [
            "/usr/local/lib/python3.11/dist-packages/sklearn/utils/deprecation.py:151: FutureWarning: 'force_all_finite' was renamed to 'ensure_all_finite' in 1.6 and will be removed in 1.8.\n",
            "  warnings.warn(\n",
            "/usr/local/lib/python3.11/dist-packages/sklearn/utils/deprecation.py:151: FutureWarning: 'force_all_finite' was renamed to 'ensure_all_finite' in 1.6 and will be removed in 1.8.\n",
            "  warnings.warn(\n"
          ]
        }
      ]
    },
    {
      "cell_type": "markdown",
      "source": [
        "#META"
      ],
      "metadata": {
        "id": "-TRJmKlXeoSU"
      }
    },
    {
      "cell_type": "code",
      "source": [
        "model = LGBMRegressor(random_state=42, verbosity=-1)\n",
        "\n",
        "param_grid = {\n",
        "    'learning_rate': [0.01, 0.1, 0.2],\n",
        "    'max_depth': [3, 5, 7, 9],\n",
        "    'min_data_in_leaf': [25, 50, 100, 150, 200],\n",
        "    'n_estimators' : [100, 200, 400, 600],\n",
        "    'feature_fraction': [0.5, 0.6, 0.7, 0.8, 0.9],\n",
        "    'max_bin' : [50, 100, 150, 200, 400]\n",
        "}\n",
        "\n",
        "tscv = TimeSeriesSplit(n_splits=5)\n",
        "\n",
        "grid_search = GridSearchCV(estimator=model, param_grid=param_grid, cv=tscv,\n",
        "                           scoring='neg_mean_squared_error', n_jobs=-1)\n",
        "\n",
        "grid_search.fit(Xtrain_META , ytrain_META)\n",
        "\n",
        "best_model = grid_search.best_estimator_\n",
        "best_params = grid_search.best_params_\n",
        "\n",
        "y_pred = best_model.predict(Xtrain_META)\n",
        "mse = mean_squared_error(ytrain_META, y_pred)\n",
        "rmse = root_mean_squared_error(ytrain_META, y_pred)\n",
        "mae = mean_absolute_error(ytrain_META, y_pred)\n",
        "mape = mean_absolute_percentage_error(ytrain_META, y_pred)\n",
        "print(f\"Best Hyperparameters: {best_params}\")\n",
        "print(f\"Test Set Mean Squared Error: {mse:.4f}\")\n",
        "print(f\"Test Set Root Mean Squared Error: {rmse:.4f}\")\n",
        "print(f\"Test Set Mean Absolute Error: {mae:.4f}\")\n",
        "print(f\"Test Set Mean Absolute Percentage Error: {mape:.4f}\")"
      ],
      "metadata": {
        "id": "72fXmBHhelFf",
        "colab": {
          "base_uri": "https://localhost:8080/"
        },
        "outputId": "2ea508f6-fe33-4481-b504-e9308afda345"
      },
      "execution_count": 33,
      "outputs": [
        {
          "output_type": "stream",
          "name": "stdout",
          "text": [
            "Best Hyperparameters: {'feature_fraction': 0.9, 'learning_rate': 0.2, 'max_bin': 150, 'max_depth': 3, 'min_data_in_leaf': 25, 'n_estimators': 600}\n",
            "Test Set Mean Squared Error: 5.5447\n",
            "Test Set Root Mean Squared Error: 2.3547\n",
            "Test Set Mean Absolute Error: 1.7632\n",
            "Test Set Mean Absolute Percentage Error: 0.0079\n"
          ]
        },
        {
          "output_type": "stream",
          "name": "stderr",
          "text": [
            "/usr/local/lib/python3.11/dist-packages/sklearn/utils/deprecation.py:151: FutureWarning: 'force_all_finite' was renamed to 'ensure_all_finite' in 1.6 and will be removed in 1.8.\n",
            "  warnings.warn(\n",
            "/usr/local/lib/python3.11/dist-packages/sklearn/utils/deprecation.py:151: FutureWarning: 'force_all_finite' was renamed to 'ensure_all_finite' in 1.6 and will be removed in 1.8.\n",
            "  warnings.warn(\n"
          ]
        }
      ]
    }
  ]
}